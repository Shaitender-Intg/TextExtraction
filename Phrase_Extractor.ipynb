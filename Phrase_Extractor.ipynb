{
  "nbformat": 4,
  "nbformat_minor": 0,
  "metadata": {
    "kernelspec": {
      "display_name": "Python 3",
      "language": "python",
      "name": "python3"
    },
    "language_info": {
      "codemirror_mode": {
        "name": "ipython",
        "version": 3
      },
      "file_extension": ".py",
      "mimetype": "text/x-python",
      "name": "python",
      "nbconvert_exporter": "python",
      "pygments_lexer": "ipython3",
      "version": "3.6.5"
    },
    "colab": {
      "name": "Phrase_Extractor.ipynb",
      "version": "0.3.2",
      "provenance": [],
      "include_colab_link": true
    }
  },
  "cells": [
    {
      "cell_type": "markdown",
      "metadata": {
        "id": "view-in-github",
        "colab_type": "text"
      },
      "source": [
        "<a href=\"https://colab.research.google.com/github/Shaitender/TextExtraction/blob/master/Phrase_Extractor.ipynb\" target=\"_parent\"><img src=\"https://colab.research.google.com/assets/colab-badge.svg\" alt=\"Open In Colab\"/></a>"
      ]
    },
    {
      "cell_type": "code",
      "metadata": {
        "id": "KRIZmjd4TKZv",
        "colab_type": "code",
        "colab": {}
      },
      "source": [
        "import numpy as np\n",
        "import pandas as pd\n",
        "\n",
        "#import pickle to dump extracted features \n",
        "import pickle"
      ],
      "execution_count": 0,
      "outputs": []
    },
    {
      "cell_type": "code",
      "metadata": {
        "id": "79H0NSv3TKaO",
        "colab_type": "code",
        "colab": {
          "resources": {
            "http://localhost:8080/nbextensions/google.colab/files.js": {
              "data": "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",
              "ok": true,
              "headers": [
                [
                  "content-type",
                  "application/javascript"
                ]
              ],
              "status": 200,
              "status_text": ""
            }
          },
          "base_uri": "https://localhost:8080/",
          "height": 74
        },
        "outputId": "0ee72a53-f685-471a-bbb2-1c8255be32de"
      },
      "source": [
        "from google.colab import files\n",
        "uploaded = files.upload()\n",
        "\n"
      ],
      "execution_count": 40,
      "outputs": [
        {
          "output_type": "display_data",
          "data": {
            "text/html": [
              "\n",
              "     <input type=\"file\" id=\"files-fd9e62aa-15a0-4b5f-ad7e-4acdf2046825\" name=\"files[]\" multiple disabled />\n",
              "     <output id=\"result-fd9e62aa-15a0-4b5f-ad7e-4acdf2046825\">\n",
              "      Upload widget is only available when the cell has been executed in the\n",
              "      current browser session. Please rerun this cell to enable.\n",
              "      </output>\n",
              "      <script src=\"/nbextensions/google.colab/files.js\"></script> "
            ],
            "text/plain": [
              "<IPython.core.display.HTML object>"
            ]
          },
          "metadata": {
            "tags": []
          }
        },
        {
          "output_type": "stream",
          "text": [
            "Saving terms_with_sentences.csv to terms_with_sentences (1).csv\n"
          ],
          "name": "stdout"
        }
      ]
    },
    {
      "cell_type": "code",
      "metadata": {
        "id": "dGZaEIR7T_w8",
        "colab_type": "code",
        "colab": {}
      },
      "source": [
        "df = pd.read_csv('terms_with_sentences (1).csv')\n"
      ],
      "execution_count": 0,
      "outputs": []
    },
    {
      "cell_type": "code",
      "metadata": {
        "id": "LTbqU6FCTKaz",
        "colab_type": "code",
        "colab": {}
      },
      "source": [
        "#drop nan rows\n",
        "df.dropna(inplace=True)"
      ],
      "execution_count": 0,
      "outputs": []
    },
    {
      "cell_type": "code",
      "metadata": {
        "id": "xYsMNIpPXSR4",
        "colab_type": "code",
        "colab": {
          "base_uri": "https://localhost:8080/",
          "height": 68
        },
        "outputId": "aec5b7ef-e3d4-47bd-edbe-4aa7220886e9"
      },
      "source": [
        "df.count()"
      ],
      "execution_count": 43,
      "outputs": [
        {
          "output_type": "execute_result",
          "data": {
            "text/plain": [
              "Terms    982\n",
              "Sents    982\n",
              "dtype: int64"
            ]
          },
          "metadata": {
            "tags": []
          },
          "execution_count": 43
        }
      ]
    },
    {
      "cell_type": "code",
      "metadata": {
        "id": "NgaknXMTTKbL",
        "colab_type": "code",
        "colab": {
          "base_uri": "https://localhost:8080/",
          "height": 68
        },
        "outputId": "9042c93e-dc6b-4ce5-a18d-7a1f0616e3f8"
      },
      "source": [
        "# Check for NaN values:\n",
        "df.isnull().sum()"
      ],
      "execution_count": 44,
      "outputs": [
        {
          "output_type": "execute_result",
          "data": {
            "text/plain": [
              "Terms    0\n",
              "Sents    0\n",
              "dtype: int64"
            ]
          },
          "metadata": {
            "tags": []
          },
          "execution_count": 44
        }
      ]
    },
    {
      "cell_type": "code",
      "metadata": {
        "id": "EiNhyaUwTKbt",
        "colab_type": "code",
        "colab": {}
      },
      "source": [
        "df['Terms'].value_counts()\n",
        "\n",
        "#df_nonCourt= df[df['Terms'] !='court']\n",
        "df_nonCourt =df"
      ],
      "execution_count": 0,
      "outputs": []
    },
    {
      "cell_type": "code",
      "metadata": {
        "id": "IfRbVT-SYwLL",
        "colab_type": "code",
        "colab": {
          "base_uri": "https://localhost:8080/",
          "height": 1000
        },
        "outputId": "e5d8b939-25d5-4d16-c64f-c76ed350b47b"
      },
      "source": [
        "df_nonCourt['Terms'].value_counts()"
      ],
      "execution_count": 164,
      "outputs": [
        {
          "output_type": "execute_result",
          "data": {
            "text/plain": [
              "court                          192\n",
              "defendant                       58\n",
              "judge                           55\n",
              "jury                            51\n",
              "evidence                        43\n",
              "testimony                       27\n",
              "judgement                       27\n",
              "answer                          27\n",
              "appellate                       23\n",
              "witness                         21\n",
              "bankruptcy                      19\n",
              "appeal                          19\n",
              "discovery                       18\n",
              "plaintiff                       15\n",
              "complaint                       15\n",
              "lawsuit                         14\n",
              "hearsay                         12\n",
              "information                     12\n",
              "parties                         12\n",
              "chief judge                     12\n",
              "brief                           12\n",
              "instructions                    12\n",
              "clerk of court                  12\n",
              "record                           9\n",
              "transcript                       8\n",
              "jurisdiction                     8\n",
              "injunction                       7\n",
              "issue                            7\n",
              "u.s. attorney                    7\n",
              "deposition                       7\n",
              "                              ... \n",
              "remand                           2\n",
              "mistrial                         2\n",
              "sentence                         2\n",
              "prosecute                        2\n",
              "plea                             2\n",
              "pleadings                        2\n",
              "verdict                          2\n",
              "procedure                        2\n",
              "warrant                          2\n",
              "reverse                          2\n",
              "subpoena                         2\n",
              "settlement                       2\n",
              "uphold                           1\n",
              "statute of limitations           1\n",
              "probation                        1\n",
              "sidebar                          1\n",
              "litigation                       1\n",
              "venue                            1\n",
              "nolo contendere                  1\n",
              "oral argument                    1\n",
              "temporary restraining order      1\n",
              "panel                            1\n",
              "jurisprudence                    1\n",
              "service of process               1\n",
              "summary judgement                1\n",
              "magistrate judges                1\n",
              "subpoena duces tecum             1\n",
              "pretrial conference              1\n",
              "sequester                        1\n",
              "statute                          1\n",
              "Name: Terms, Length: 91, dtype: int64"
            ]
          },
          "metadata": {
            "tags": []
          },
          "execution_count": 164
        }
      ]
    },
    {
      "cell_type": "code",
      "metadata": {
        "id": "PP7yw5ooTKcI",
        "colab_type": "code",
        "colab": {}
      },
      "source": [
        "#Split the data into train & test sets\n",
        "from sklearn.model_selection import train_test_split\n",
        "\n",
        "X = df_nonCourt['Sents']\n",
        "y = df_nonCourt['Terms']\n",
        "\n",
        "X_train, X_test, y_train, y_test = train_test_split(X, y, test_size=0.25,random_state=12)"
      ],
      "execution_count": 0,
      "outputs": []
    },
    {
      "cell_type": "code",
      "metadata": {
        "id": "gv5kdnnKTKcc",
        "colab_type": "code",
        "colab": {
          "base_uri": "https://localhost:8080/",
          "height": 442
        },
        "outputId": "6132cbf2-dacb-4ab0-ad00-312f2bed032e"
      },
      "source": [
        "#vectorize the data, then train and fit a model\n",
        "from sklearn.pipeline import Pipeline\n",
        "from sklearn.feature_extraction.text import TfidfVectorizer\n",
        "\n",
        "model = sklearn.pipeline.Pipeline([\n",
        "    #('pca', sklearn.decomposition.PCA()),\n",
        "    ('tfidf', TfidfVectorizer()),\n",
        "    #('sgd', sklearn.linear_model.SGDClassifier(loss='log')),\n",
        "    ('classify', sklearn.linear_model.LogisticRegression(verbose=1, solver='liblinear',random_state=12, C=5, penalty='l2',max_iter=500)),    \n",
        "    #('clf', LinearSVC()),\n",
        "])\n",
        "\n",
        "\n",
        "model.fit(X_train, y_train)"
      ],
      "execution_count": 192,
      "outputs": [
        {
          "output_type": "stream",
          "text": [
            "/usr/local/lib/python3.6/dist-packages/sklearn/linear_model/logistic.py:469: FutureWarning: Default multi_class will be changed to 'auto' in 0.22. Specify the multi_class option to silence this warning.\n",
            "  \"this warning.\", FutureWarning)\n"
          ],
          "name": "stderr"
        },
        {
          "output_type": "stream",
          "text": [
            "[LibLinear]"
          ],
          "name": "stdout"
        },
        {
          "output_type": "execute_result",
          "data": {
            "text/plain": [
              "Pipeline(memory=None,\n",
              "         steps=[('tfidf',\n",
              "                 TfidfVectorizer(analyzer='word', binary=False,\n",
              "                                 decode_error='strict',\n",
              "                                 dtype=<class 'numpy.float64'>,\n",
              "                                 encoding='utf-8', input='content',\n",
              "                                 lowercase=True, max_df=1.0, max_features=None,\n",
              "                                 min_df=1, ngram_range=(1, 1), norm='l2',\n",
              "                                 preprocessor=None, smooth_idf=True,\n",
              "                                 stop_words=None, strip_accents=None,\n",
              "                                 sublinear_tf=False,\n",
              "                                 token_pattern='(?u)\\\\b\\\\w\\\\w+\\\\b',\n",
              "                                 tokenizer=None, use_idf=True,\n",
              "                                 vocabulary=None)),\n",
              "                ('classify',\n",
              "                 LogisticRegression(C=5, class_weight=None, dual=False,\n",
              "                                    fit_intercept=True, intercept_scaling=1,\n",
              "                                    l1_ratio=None, max_iter=500,\n",
              "                                    multi_class='warn', n_jobs=None,\n",
              "                                    penalty='l2', random_state=12,\n",
              "                                    solver='liblinear', tol=0.0001, verbose=1,\n",
              "                                    warm_start=False))],\n",
              "         verbose=False)"
            ]
          },
          "metadata": {
            "tags": []
          },
          "execution_count": 192
        }
      ]
    },
    {
      "cell_type": "code",
      "metadata": {
        "id": "y_Qouj3VTKct",
        "colab_type": "code",
        "colab": {}
      },
      "source": [
        "# Form a prediction set\n",
        "predictions = model.predict(X_test)"
      ],
      "execution_count": 0,
      "outputs": []
    },
    {
      "cell_type": "code",
      "metadata": {
        "id": "XD5gMBEmTKc3",
        "colab_type": "code",
        "colab": {
          "base_uri": "https://localhost:8080/",
          "height": 136
        },
        "outputId": "583cdbba-34c6-465d-a129-3c7e9160d0fd"
      },
      "source": [
        "#cm\n",
        "from sklearn import metrics\n",
        "print(metrics.confusion_matrix(y_test,predictions))"
      ],
      "execution_count": 194,
      "outputs": [
        {
          "output_type": "stream",
          "text": [
            "[[0 0 0 ... 0 0 0]\n",
            " [0 5 0 ... 0 0 0]\n",
            " [0 0 5 ... 0 0 0]\n",
            " ...\n",
            " [0 0 0 ... 1 0 0]\n",
            " [0 0 0 ... 0 0 0]\n",
            " [0 0 0 ... 0 0 4]]\n"
          ],
          "name": "stdout"
        }
      ]
    },
    {
      "cell_type": "code",
      "metadata": {
        "id": "K7AgjEraTKdD",
        "colab_type": "code",
        "colab": {
          "base_uri": "https://localhost:8080/",
          "height": 34
        },
        "outputId": "4ac27751-cf2f-44c3-fa4e-9f47485fb372"
      },
      "source": [
        "print(metrics.accuracy_score(y_test,predictions))"
      ],
      "execution_count": 195,
      "outputs": [
        {
          "output_type": "stream",
          "text": [
            "0.7113821138211383\n"
          ],
          "name": "stdout"
        }
      ]
    },
    {
      "cell_type": "code",
      "metadata": {
        "id": "QLy-IBVsTKdW",
        "colab_type": "code",
        "colab": {
          "base_uri": "https://localhost:8080/",
          "height": 1000
        },
        "outputId": "77b0a0c1-7f36-48d3-f751-20c1552a68cb"
      },
      "source": [
        "print(metrics.classification_report(y_test,predictions))"
      ],
      "execution_count": 196,
      "outputs": [
        {
          "output_type": "stream",
          "text": [
            "                         precision    recall  f1-score   support\n",
            "\n",
            "              agreement       0.00      0.00      0.00         2\n",
            "                 answer       0.56      0.56      0.56         9\n",
            "                 appeal       1.00      1.00      1.00         5\n",
            "              appellate       1.00      0.71      0.83         7\n",
            "            arraignment       1.00      1.00      1.00         1\n",
            "                   bail       1.00      1.00      1.00         1\n",
            "             bankruptcy       1.00      0.57      0.73         7\n",
            "            bench trial       1.00      1.00      1.00         3\n",
            "                  brief       1.00      0.25      0.40         4\n",
            "               chambers       1.00      1.00      1.00         1\n",
            "     charge to the jury       1.00      1.00      1.00         2\n",
            "            chief judge       0.00      0.00      0.00         5\n",
            "circumstantial evidence       0.00      0.00      0.00         2\n",
            "         clerk of court       1.00      0.20      0.33         5\n",
            "             common law       1.00      1.00      1.00         2\n",
            "              complaint       0.67      1.00      0.80         2\n",
            "               contract       0.00      0.00      0.00         0\n",
            "           counterclaim       1.00      1.00      1.00         2\n",
            "                  court       0.66      0.87      0.75        54\n",
            "         court reporter       0.00      0.00      0.00         1\n",
            "      default judgement       0.00      0.00      0.00         2\n",
            "              defendant       0.60      1.00      0.75        12\n",
            "             deposition       1.00      1.00      1.00         1\n",
            "              discovery       1.00      1.00      1.00         3\n",
            "                 docket       1.00      1.00      1.00         1\n",
            "               evidence       0.44      0.73      0.55        11\n",
            "       federal question       0.40      1.00      0.57         2\n",
            "                 felony       0.00      0.00      0.00         0\n",
            "                   file       1.00      1.00      1.00         2\n",
            "          habeas corpus       1.00      1.00      1.00         2\n",
            "                hearsay       1.00      1.00      1.00         1\n",
            "            impeachment       1.00      1.00      1.00         1\n",
            "            information       0.00      0.00      0.00         3\n",
            "             injunction       1.00      1.00      1.00         1\n",
            "           instructions       1.00      1.00      1.00         3\n",
            "        interrogatories       1.00      1.00      1.00         1\n",
            "                  issue       1.00      0.67      0.80         3\n",
            "                  judge       0.69      0.92      0.79        12\n",
            "              judgement       0.71      0.71      0.71         7\n",
            "           jurisdiction       0.00      0.00      0.00         3\n",
            "                   jury       0.92      0.92      0.92        13\n",
            "                lawsuit       0.00      0.00      0.00         2\n",
            "            misdemeanor       1.00      1.00      1.00         3\n",
            "               mistrial       0.00      0.00      0.00         1\n",
            "                opinion       0.00      0.00      0.00         0\n",
            "          oral argument       0.00      0.00      0.00         1\n",
            "                parties       1.00      0.60      0.75         5\n",
            "              plaintiff       1.00      0.50      0.67         4\n",
            "              precedent       0.00      0.00      0.00         1\n",
            "              prosecute       0.00      0.00      0.00         1\n",
            "                 record       0.50      0.67      0.57         3\n",
            "                reverse       0.00      0.00      0.00         2\n",
            "     service of process       0.00      0.00      0.00         1\n",
            "             settlement       0.00      0.00      0.00         1\n",
            "                statute       0.00      0.00      0.00         1\n",
            " statute of limitations       0.00      0.00      0.00         0\n",
            "               subpoena       0.00      0.00      0.00         1\n",
            "      summary judgement       0.00      0.00      0.00         0\n",
            "              testimony       0.64      1.00      0.78         7\n",
            "             transcript       1.00      0.60      0.75         5\n",
            "          u.s. attorney       1.00      1.00      1.00         1\n",
            "                verdict       0.00      0.00      0.00         1\n",
            "                witness       1.00      0.67      0.80         6\n",
            "\n",
            "               accuracy                           0.71       246\n",
            "              macro avg       0.57      0.54      0.54       246\n",
            "           weighted avg       0.69      0.71      0.67       246\n",
            "\n"
          ],
          "name": "stdout"
        },
        {
          "output_type": "stream",
          "text": [
            "/usr/local/lib/python3.6/dist-packages/sklearn/metrics/classification.py:1437: UndefinedMetricWarning: Precision and F-score are ill-defined and being set to 0.0 in labels with no predicted samples.\n",
            "  'precision', 'predicted', average, warn_for)\n",
            "/usr/local/lib/python3.6/dist-packages/sklearn/metrics/classification.py:1439: UndefinedMetricWarning: Recall and F-score are ill-defined and being set to 0.0 in labels with no true samples.\n",
            "  'recall', 'true', average, warn_for)\n"
          ],
          "name": "stderr"
        }
      ]
    },
    {
      "cell_type": "code",
      "metadata": {
        "id": "6jAbyI9VTKdn",
        "colab_type": "code",
        "colab": {
          "base_uri": "https://localhost:8080/",
          "height": 34
        },
        "outputId": "80a85389-63f8-402a-c969-da44e8bfd552"
      },
      "source": [
        "# pickle model\n",
        "from sklearn.externals import joblib\n",
        "joblib.dump(model, \"Phrase_Extractor.pickle\")"
      ],
      "execution_count": 174,
      "outputs": [
        {
          "output_type": "execute_result",
          "data": {
            "text/plain": [
              "['Phrase_Extractor.pickle']"
            ]
          },
          "metadata": {
            "tags": []
          },
          "execution_count": 174
        }
      ]
    },
    {
      "cell_type": "code",
      "metadata": {
        "id": "qnEayFUdivtb",
        "colab_type": "code",
        "colab": {}
      },
      "source": [
        "test = [\"\"\" the traces its origins directly back chambers  1855\". \"\"\"]\n"
      ],
      "execution_count": 0,
      "outputs": []
    },
    {
      "cell_type": "code",
      "metadata": {
        "id": "mWXSPh_1lXR6",
        "colab_type": "code",
        "colab": {
          "base_uri": "https://localhost:8080/",
          "height": 1000
        },
        "outputId": "fdadc240-0c31-45de-8e90-52cabb65da48"
      },
      "source": [
        "preds = model.predict_proba(test)\n",
        "preds_idx = np.argsort(preds, axis=1)[-2:]\n",
        "\n",
        "for i,d in enumerate(test):\n",
        "    print(d,\"=>\")\n",
        "    for p in preds_idx[i]:\n",
        "        print(model.classes_[p],\"(\",preds[i][p],\")\")"
      ],
      "execution_count": 197,
      "outputs": [
        {
          "output_type": "stream",
          "text": [
            " the traces its origins directly back chambers  1855\".  =>\n",
            "transcript ( 0.005650854524334223 )\n",
            "pretrial conference ( 0.0056693927950518044 )\n",
            "uphold ( 0.005735180534446988 )\n",
            "summary judgement ( 0.005877453557573142 )\n",
            "circumstantial evidence ( 0.005987002285846559 )\n",
            "magistrate judges ( 0.006023300870281311 )\n",
            "default judgement ( 0.006025834779550858 )\n",
            "subpoena duces tecum ( 0.0060476619224554455 )\n",
            "temporary restraining order ( 0.006048108445743027 )\n",
            "venue ( 0.006052620907960863 )\n",
            "verdict ( 0.006080459551715091 )\n",
            "litigation ( 0.0060919838619470324 )\n",
            "settlement ( 0.006115369847513722 )\n",
            "subpoena ( 0.006161950200635998 )\n",
            "impeachment ( 0.006212941801831276 )\n",
            "court reporter ( 0.006216225950088369 )\n",
            "prosecute ( 0.0062253530459034905 )\n",
            "precedent ( 0.0062591019509178 )\n",
            "sidebar ( 0.006274479744314845 )\n",
            "default ( 0.006274898409728919 )\n",
            "bail ( 0.006298401421887927 )\n",
            "jurisprudence ( 0.006302931909130015 )\n",
            "conviction ( 0.006313166379862402 )\n",
            "agreement ( 0.006410385709227789 )\n",
            "nolo contendere ( 0.006423028724430217 )\n",
            "counterclaim ( 0.006458733695546466 )\n",
            "common law ( 0.006477475246431958 )\n",
            "docket ( 0.006479562412762743 )\n",
            "charge to the jury ( 0.006508948593517738 )\n",
            "panel ( 0.006510481916921492 )\n",
            "bench trial ( 0.006512669799963189 )\n",
            "probation ( 0.006515458325871454 )\n",
            "contract ( 0.006541122813068253 )\n",
            "sequester ( 0.006554762610459205 )\n",
            "arraignment ( 0.006567356395064562 )\n",
            "mistrial ( 0.006586488350255357 )\n",
            "damages ( 0.00660606312594885 )\n",
            "counsel ( 0.00660931559420045 )\n",
            "interrogatories ( 0.006731368889915228 )\n",
            "statute of limitations ( 0.006875310173495684 )\n",
            "pleadings ( 0.00690874077824694 )\n",
            "federal question ( 0.006912829238715986 )\n",
            "issue ( 0.006928125681228212 )\n",
            "file ( 0.006945143629721667 )\n",
            "hearsay ( 0.0070935886583446866 )\n",
            "chief judge ( 0.007240234107731917 )\n",
            "habeas corpus ( 0.007433895024385366 )\n",
            "affidavit ( 0.0075026627469437085 )\n",
            "procedure ( 0.007654154804363078 )\n",
            "case law ( 0.007688023761101636 )\n",
            "indictment ( 0.007858494340924737 )\n",
            "clerk of court ( 0.007971768777623001 )\n",
            "information ( 0.008447930480859378 )\n",
            "warrant ( 0.008539942451229703 )\n",
            "sentence ( 0.008556341902724472 )\n",
            "plea ( 0.00855729389929045 )\n",
            "u.s. attorney ( 0.008671590446678536 )\n",
            "instructions ( 0.00868594926862727 )\n",
            "petit jury ( 0.008863588481061831 )\n",
            "deposition ( 0.00918923493394225 )\n",
            "injunction ( 0.00927564968192817 )\n",
            "capital offense ( 0.009394525792058859 )\n",
            "appeal ( 0.009663731167878109 )\n",
            "jurisdiction ( 0.00980980603993647 )\n",
            "opinion ( 0.00981336734497195 )\n",
            "record ( 0.009852704194185996 )\n",
            "discovery ( 0.010122253841908882 )\n",
            "felony ( 0.010129594290881967 )\n",
            "brief ( 0.010176171421794711 )\n",
            "misdemeanor ( 0.010512817122019048 )\n",
            "plaintiff ( 0.010554812390368524 )\n",
            "judgement ( 0.011600501030407752 )\n",
            "bankruptcy ( 0.01305680076357706 )\n",
            "remand ( 0.014851853346032005 )\n",
            "complaint ( 0.01591356178173463 )\n",
            "witness ( 0.01620348714446944 )\n",
            "parties ( 0.016234376869366074 )\n",
            "answer ( 0.01885115175035688 )\n",
            "lawsuit ( 0.019071482042058063 )\n",
            "chambers ( 0.01949646748197874 )\n",
            "appellate ( 0.019813858520308945 )\n",
            "testimony ( 0.020467490647487204 )\n",
            "evidence ( 0.024622836387496592 )\n",
            "jury ( 0.02936985101723895 )\n",
            "defendant ( 0.037969834151846495 )\n",
            "judge ( 0.04394353572464559 )\n",
            "court ( 0.16026473756351606 )\n"
          ],
          "name": "stdout"
        }
      ]
    },
    {
      "cell_type": "code",
      "metadata": {
        "id": "tOzuu1Vlowu7",
        "colab_type": "code",
        "colab": {}
      },
      "source": [
        "test_feature = [\"\"\" the traces its origins directly back to 1855, when Congress established the United States Court of Claims to provide for the determination of private claims against the United States government. The legislation was signed into law on February 24, 1855, by President Franklin Pierce. Throughout its 160-year history, although it has undergone notable changes in name, size, scope of jurisdiction, and procedures, its purpose has remained the same: in this court the federal government stands as the defendant and may be sued by citizens seeking monetary redress. For this reason, the court has been referred to as the \"keeper of the nation's conscience\" and \"the People's Court.\"\n",
        "\n",
        "As originally in 1855, the court lacked the essential judicial power to render final judgments. This oversight was resolved by legislation passed in 1866, in response to President Abraham Lincoln's insistence in his Annual Message to Congress in 1861 that, \"It is as much the duty of Government to render prompt justice against itself, in favor of citizens, as it is to administer the same, between private individuals.\"\n",
        "\n",
        "In 1887, Congress passed the Tucker Act, which significantly expanded the court's jurisdiction to include all claims against the government except tort, equitable, and admiralty claims. The court thus today has nationwide jurisdiction over most suits for monetary claims against the government and sits, without a jury, to determine issues of law and fact. The general jurisdiction of the court, described in 28 U.S.C. § 1491,[1] is over claims for just compensation for the taking of private property, refund of federal taxes, military and civilian pay and allowances, and damages for breaches of contracts with the government. The court also possesses jurisdiction over claims for patent and copyright infringement against the United States, as well as over certain suits by Indian tribes.\n",
        "\n",
        "Additionally, the court has jurisdiction to hear both pre-award and post-award bid protest suits by unsuccessful bidders on government contracts.\n",
        "\n",
        "A unique aspect of the court's jurisdiction throughout its history has been the authority to act on congressional references of legislative proposals for compensation of individual claims. As eventually codified in 28 U.S.C. § 1492,[2] either House of Congress may refer a bill to the Chief Judge of the court for an investigation and a report to Congress. A judge of the court is assigned to act as the hearing officer and preside over the judicial proceedings. Then a three-judge review panel submits a report to Congress for its consideration and disposition of such claims for compensation.\n",
        "\n",
        "Befitting its unique role, the court has been located throughout its history in Washington, D.C., in the vicinity of the White House or in the U.S. Capitol Building. It first met in May 1855 at Willard's Hotel. In July of that year, it moved into the Capitol. After briefly using the Supreme Court's chamber in the basement of the Capitol, it then acquired its own rooms there. In 1879, the court obtained space on the ground floor of the Freedman's Bank Building, which stood at the place now occupied by the Treasury Annex, adjacent to the southeast corner of Lafayette Park. Two decades later, in 1899, the court moved to the building formerly occupied by William Corcoran's art collection across Lafayette Park at the intersection of 17th Street and Pennsylvania Avenue.\n",
        "\n",
        "It remained there for 65 years. This building was designed by, and is presently named for, the architect James Renwick, who also designed the Smithsonian Institution's Castle on the National Mall and St. Patrick's Cathedral in New York City. When the facilities there were deemed inadequate by the mid- 1950s, the court asked Congress for a new location. Eventually, the site at 717 Madison Place, NW, was chosen and the court moved to its present home on August 1, 1967.\n",
        "\n",
        "The court's original composition of three judges was expanded to five in 1863. They would consider evidence proffered by claimants and weigh testimony taken by permanent or special commissioners employed by the court, who were dispersed across the United States. One of the first commissioners was Benjamin Harrison of Indiana, who would later become President.[3] If oral argument was requested, the five judges would hear the case en banc. Appeal to the Supreme Court was by right if the amount in dispute was over $3,000. The growth in government caused by and coinciding with World War I made the system unworkable, as the number of filed cases increased considerably. In 1925, legislation enacted by Congress at the request of the court created a separate trial division of seven commissioners and elevated the five judges to an appellate role. Initially, the trial commissioners would function as special masters in chancery and conduct formal proceedings either at the court's home in Washington, D.C., or elsewhere in the United States in a court facility amenable to the parties. The trial procedures evolved to resemble a non-jury civil trial in district court.\n",
        "\n",
        "In 1948, the commissioners were authorized to make recommendations for conclusions of law. The number of commissioners was increased in 1953 to 15. In 1966, Congress provided that there would be seven appellate judges to be appointed by the President with life tenure. In 1973, the title of the commissioners was changed to trial judge and by 1977, the Court of Claims had 16 trial judges who conducted trials of cases in the first instance. Judgments, which are required to be paid out of appropriations by Congress, were originally paid by individual appropriations passed separately or as part of other appropriations bills. In 1955, Congress provided for a standing appropriation for judgments of $100,000 or less. Finally, in 1977, Congress created a permanent, indefinite appropriation for all judgments awarded by the court.\n",
        "\n",
        "The Federal Courts Improvement Act of 1982 created the modern court.[4] While the appellate division of the Court of Claims was combined with the United States Court of Customs and Patent Appeals to comprise the new United States Court of Appeals for the Federal Circuit, the trial division of the Court of Claims became the United States Claims Court (and in 1992, the name was changed to the United States Court of Federal Claims).[5] Appeals from the Court of Federal Claims are taken to the United States Court of Appeals for the Federal Circuit and a judgment there is conclusive unless reviewed by the Supreme Court on writ of certiorari. Decisions of the Court of Claims are binding precedent on both its appellate and trial court successors.\n",
        "\n",
        "The court, as now constituted, consists of 16 judges, appointed by the President and subject to confirmation by the U.S. Senate for terms of 15 years. In addition, judges who have completed their statutory terms of office are authorized to continue to take cases as senior judges of the court. This ongoing tenure serves as a mechanism to ensure judicial impartiality and independence.\n",
        "\n",
        "In recent years, the court's docket has been increasingly characterized by complex, high-dollar demands, and high-profile cases in such areas as, for example, the savings and loan crisis of the 1980s, the World War II internment of Japanese-Americans, and the federal repository of civilian spent nuclear fuel.\n",
        "\n",
        "Nevertheless, despite the nature of the claim, the notability of the claimant, or the amount in dispute, the Court of Federal Claims acts as a clearing house when the government must settle with those it has legally wronged. As observed by former Chief Judge Loren A. Smith, the court is the institutional scale that weighs the government's actions against the standard measure of the law and helps make concrete the spirit of the First Amendment's guarantee of the right \"to petition the Government for redress of grievances.\"[6]\n",
        "\n",
        "The National Childhood Vaccine Injury Act of 1986 gave the court the authority to create an Office of Special Masters to receive and hear certain vaccine injury cases, and the jurisdiction to review those cases.[7] This vaccine injury jurisdiction has been enlarged in recent years to encompass claims stemming from a number of additional vaccines, including, for example, varicella, hepatitis B, and influenza.\n",
        "\n",
        "Though a provision of the Administrative Dispute Resolution Act of 1996 gave the Court of Federal Claims and U.S. districts courts concurrent jurisdiction over post-award protests, subsequent legislation provided that, as of January 2001, that the United States Court of Federal Claims would be the exclusive judicial forum for post-award bid protest litigation.\n",
        "\n",
        "In 2006, the court rendered judgments in more than 900 cases and awarded $1.8 billion in damages. \"\"\"]\n"
      ],
      "execution_count": 0,
      "outputs": []
    },
    {
      "cell_type": "code",
      "metadata": {
        "id": "o1xUP58xmLzV",
        "colab_type": "code",
        "colab": {}
      },
      "source": [
        "#Reference - https://stackoverflow.com/questions/32461246/how-to-get-top-3-or-top-n-predictions-using-sklearns-sgdclassifier\n",
        "#https://stackoverflow.com/questions/52698815/how-to-get-top-n-predictions-using-sklearns-sgdclassifier/52699610#52699610\n",
        "\n",
        "n = 10\n",
        "probs = model.predict_proba(test_feature)\n",
        "best_n = np.argsort(probs, axis=1)[:,-n:]\n",
        "preds=[[model.classes_[p] for p in prediction] for prediction in best_n]"
      ],
      "execution_count": 0,
      "outputs": []
    },
    {
      "cell_type": "code",
      "metadata": {
        "id": "cIrxONgJuWDd",
        "colab_type": "code",
        "colab": {
          "base_uri": "https://localhost:8080/",
          "height": 187
        },
        "outputId": "8ff75b1b-1fda-4e59-ff92-12cd55fe67c7"
      },
      "source": [
        "preds"
      ],
      "execution_count": 212,
      "outputs": [
        {
          "output_type": "execute_result",
          "data": {
            "text/plain": [
              "[['testimony',\n",
              "  'appellate',\n",
              "  'chief judge',\n",
              "  'parties',\n",
              "  'evidence',\n",
              "  'complaint',\n",
              "  'jurisdiction',\n",
              "  'judge',\n",
              "  'jury',\n",
              "  'court']]"
            ]
          },
          "metadata": {
            "tags": []
          },
          "execution_count": 212
        }
      ]
    },
    {
      "cell_type": "code",
      "metadata": {
        "id": "Kjx-5BhouXMb",
        "colab_type": "code",
        "colab": {}
      },
      "source": [
        ""
      ],
      "execution_count": 0,
      "outputs": []
    }
  ]
}