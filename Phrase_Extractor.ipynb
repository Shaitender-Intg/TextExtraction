{
 "cells": [
  {
   "cell_type": "code",
   "execution_count": 114,
   "metadata": {},
   "outputs": [],
   "source": [
    "import numpy as np\n",
    "import pandas as pd\n",
    "\n",
    "#import pickle to dump extracted features \n",
    "import pickle"
   ]
  },
  {
   "cell_type": "code",
   "execution_count": 121,
   "metadata": {},
   "outputs": [
    {
     "data": {
      "text/html": [
       "<div>\n",
       "<style scoped>\n",
       "    .dataframe tbody tr th:only-of-type {\n",
       "        vertical-align: middle;\n",
       "    }\n",
       "\n",
       "    .dataframe tbody tr th {\n",
       "        vertical-align: top;\n",
       "    }\n",
       "\n",
       "    .dataframe thead th {\n",
       "        text-align: right;\n",
       "    }\n",
       "</style>\n",
       "<table border=\"1\" class=\"dataframe\">\n",
       "  <thead>\n",
       "    <tr style=\"text-align: right;\">\n",
       "      <th></th>\n",
       "      <th>Terms</th>\n",
       "      <th>Sents</th>\n",
       "    </tr>\n",
       "  </thead>\n",
       "  <tbody>\n",
       "    <tr>\n",
       "      <th>0</th>\n",
       "      <td>acquittal</td>\n",
       "      <td>NaN</td>\n",
       "    </tr>\n",
       "    <tr>\n",
       "      <th>1</th>\n",
       "      <td>judgement</td>\n",
       "      <td>NaN</td>\n",
       "    </tr>\n",
       "    <tr>\n",
       "      <th>2</th>\n",
       "      <td>defendant</td>\n",
       "      <td>NaN</td>\n",
       "    </tr>\n",
       "    <tr>\n",
       "      <th>3</th>\n",
       "      <td>affidavit</td>\n",
       "      <td>mattis nunc sed blandit libero volutpat at tel...</td>\n",
       "    </tr>\n",
       "    <tr>\n",
       "      <th>4</th>\n",
       "      <td>appellate</td>\n",
       "      <td>it before a notary or officer having authority...</td>\n",
       "    </tr>\n",
       "  </tbody>\n",
       "</table>\n",
       "</div>"
      ],
      "text/plain": [
       "       Terms                                              Sents\n",
       "0  acquittal                                                NaN\n",
       "1  judgement                                                NaN\n",
       "2  defendant                                                NaN\n",
       "3  affidavit  mattis nunc sed blandit libero volutpat at tel...\n",
       "4  appellate  it before a notary or officer having authority..."
      ]
     },
     "execution_count": 121,
     "metadata": {},
     "output_type": "execute_result"
    }
   ],
   "source": [
    "df = pd.read_csv('./terms_with_sentences.csv')\n",
    "df.head()"
   ]
  },
  {
   "cell_type": "code",
   "execution_count": 122,
   "metadata": {},
   "outputs": [],
   "source": [
    "#drop nan rows\n",
    "df.dropna(inplace=True)"
   ]
  },
  {
   "cell_type": "code",
   "execution_count": 123,
   "metadata": {},
   "outputs": [
    {
     "data": {
      "text/plain": [
       "Terms    0\n",
       "Sents    0\n",
       "dtype: int64"
      ]
     },
     "execution_count": 123,
     "metadata": {},
     "output_type": "execute_result"
    }
   ],
   "source": [
    "# Check for NaN values:\n",
    "df.isnull().sum()"
   ]
  },
  {
   "cell_type": "code",
   "execution_count": 124,
   "metadata": {},
   "outputs": [
    {
     "data": {
      "text/plain": [
       "court                     52\n",
       "jury                      16\n",
       "judge                     15\n",
       "defendant                 13\n",
       "evidence                  13\n",
       "lawsuit                    9\n",
       "appellate                  8\n",
       "answer                     7\n",
       "judgement                  7\n",
       "parties                    7\n",
       "testimony                  7\n",
       "witness                    6\n",
       "plaintiff                  5\n",
       "complaint                  5\n",
       "record                     4\n",
       "bankruptcy                 4\n",
       "opinion                    4\n",
       "appeal                     4\n",
       "discovery                  3\n",
       "transcript                 3\n",
       "petit jury                 3\n",
       "jurisdiction               3\n",
       "clerk of court             2\n",
       "misdemeanor                2\n",
       "procedure                  2\n",
       "reverse                    2\n",
       "information                2\n",
       "sentence                   2\n",
       "settlement                 2\n",
       "remand                     2\n",
       "                          ..\n",
       "statute of limitations     1\n",
       "indictment                 1\n",
       "court reporter             1\n",
       "sequester                  1\n",
       "panel                      1\n",
       "docket                     1\n",
       "bail                       1\n",
       "damages                    1\n",
       "uphold                     1\n",
       "statute                    1\n",
       "counterclaim               1\n",
       "file                       1\n",
       "default                    1\n",
       "impeachment                1\n",
       "conviction                 1\n",
       "subpoena duces tecum       1\n",
       "pretrial conference        1\n",
       "magistrate judges          1\n",
       "default judgement          1\n",
       "service of process         1\n",
       "litigation                 1\n",
       "contract                   1\n",
       "venue                      1\n",
       "capital offense            1\n",
       "agreement                  1\n",
       "summary judgement          1\n",
       "federal question           1\n",
       "counsel                    1\n",
       "nolo contendere            1\n",
       "affidavit                  1\n",
       "Name: Terms, Length: 91, dtype: int64"
      ]
     },
     "execution_count": 124,
     "metadata": {},
     "output_type": "execute_result"
    }
   ],
   "source": [
    "df['Terms'].value_counts()"
   ]
  },
  {
   "cell_type": "code",
   "execution_count": 126,
   "metadata": {},
   "outputs": [],
   "source": [
    "#Split the data into train & test sets\n",
    "from sklearn.model_selection import train_test_split\n",
    "\n",
    "X = df['Sents']\n",
    "y = df['Terms']\n",
    "\n",
    "X_train, X_test, y_train, y_test = train_test_split(X, y, test_size=0.30,random_state=12)"
   ]
  },
  {
   "cell_type": "code",
   "execution_count": 127,
   "metadata": {},
   "outputs": [
    {
     "name": "stderr",
     "output_type": "stream",
     "text": [
      "/home/shaitender/anaconda3/lib/python3.6/site-packages/sklearn/model_selection/_split.py:605: Warning: The least populated class in y has only 1 members, which is too few. The minimum number of members in any class cannot be less than n_splits=3.\n",
      "  % (min_groups, self.n_splits)), Warning)\n"
     ]
    },
    {
     "data": {
      "text/plain": [
       "Pipeline(memory=None,\n",
       "     steps=[('tfidf', TfidfVectorizer(analyzer='word', binary=False, decode_error='strict',\n",
       "        dtype=<class 'numpy.int64'>, encoding='utf-8', input='content',\n",
       "        lowercase=True, max_df=1.0, max_features=None, min_df=1,\n",
       "        ngram_range=(1, 1), norm='l2', preprocessor=None, smooth_idf=True,\n",
       " ...2', random_state=None,\n",
       "           refit=True, scoring=None, solver='lbfgs', tol=0.0001, verbose=0))])"
      ]
     },
     "execution_count": 127,
     "metadata": {},
     "output_type": "execute_result"
    }
   ],
   "source": [
    "#vectorize the data, then train and fit a model\n",
    "import sklearn.decomposition\n",
    "import sklearn.feature_selection\n",
    "\n",
    "from sklearn.pipeline import Pipeline\n",
    "from sklearn.feature_extraction.text import TfidfVectorizer\n",
    "from sklearn.svm import LinearSVC\n",
    "\n",
    "#Build model\n",
    "'''model = Pipeline([\n",
    "                  ('tfidf', TfidfVectorizer(max_df=0.5, max_features=100,min_df=2, use_idf=True)), \n",
    "                  ('clf', LinearSVC()),\n",
    "                  ('classify', sklearn.linear_model.LogisticRegressionCV()),\n",
    "                                   \n",
    "])'''\n",
    "\n",
    "\n",
    "model = sklearn.pipeline.Pipeline([\n",
    "    #('pca', sklearn.decomposition.PCA()),\n",
    "    ('tfidf', TfidfVectorizer()),\n",
    "    ('classify', sklearn.linear_model.LogisticRegressionCV()),\n",
    "    #('clf', LinearSVC()),\n",
    "])\n",
    "\n",
    "model.fit(X_train, y_train)"
   ]
  },
  {
   "cell_type": "code",
   "execution_count": 128,
   "metadata": {},
   "outputs": [],
   "source": [
    "# Form a prediction set\n",
    "predictions = model.predict(X_test)"
   ]
  },
  {
   "cell_type": "code",
   "execution_count": 129,
   "metadata": {},
   "outputs": [
    {
     "name": "stdout",
     "output_type": "stream",
     "text": [
      "[[0 0 0 ... 0 0 0]\n",
      " [0 0 0 ... 0 0 0]\n",
      " [0 1 0 ... 0 0 0]\n",
      " ...\n",
      " [0 0 0 ... 0 0 0]\n",
      " [0 1 0 ... 0 0 0]\n",
      " [0 0 0 ... 0 0 0]]\n"
     ]
    }
   ],
   "source": [
    "#cm\n",
    "from sklearn import metrics\n",
    "print(metrics.confusion_matrix(y_test,predictions))"
   ]
  },
  {
   "cell_type": "code",
   "execution_count": 130,
   "metadata": {},
   "outputs": [
    {
     "name": "stdout",
     "output_type": "stream",
     "text": [
      "0.125\n"
     ]
    }
   ],
   "source": [
    "print(metrics.accuracy_score(y_test,predictions))"
   ]
  },
  {
   "cell_type": "code",
   "execution_count": 131,
   "metadata": {},
   "outputs": [
    {
     "name": "stdout",
     "output_type": "stream",
     "text": [
      "                      precision    recall  f1-score   support\n",
      "\n",
      "              answer       0.00      0.00      0.00         2\n",
      "              appeal       0.00      0.00      0.00         1\n",
      "           appellate       0.00      0.00      0.00         3\n",
      "         arraignment       0.00      0.00      0.00         1\n",
      "          bankruptcy       0.00      0.00      0.00         3\n",
      "               brief       0.00      0.00      0.00         1\n",
      "     capital offense       0.00      0.00      0.00         1\n",
      "  charge to the jury       0.00      0.00      0.00         1\n",
      "         chief judge       0.00      0.00      0.00         1\n",
      "      clerk of court       0.00      0.00      0.00         1\n",
      "             counsel       0.00      0.00      0.00         1\n",
      "               court       0.15      0.85      0.26        13\n",
      "             default       0.00      0.00      0.00         1\n",
      "   default judgement       0.00      0.00      0.00         1\n",
      "           defendant       0.00      0.00      0.00         2\n",
      "           discovery       0.00      0.00      0.00         2\n",
      "              docket       0.00      0.00      0.00         1\n",
      "            evidence       0.00      0.00      0.00         2\n",
      "       habeas corpus       0.00      0.00      0.00         1\n",
      "               issue       0.00      0.00      0.00         1\n",
      "               judge       0.00      0.00      0.00         4\n",
      "           judgement       0.00      0.00      0.00         3\n",
      "        jurisdiction       0.00      0.00      0.00         1\n",
      "                jury       0.00      0.00      0.00         7\n",
      "             lawsuit       0.00      0.00      0.00         2\n",
      "             opinion       0.00      0.00      0.00         1\n",
      "             parties       0.00      0.00      0.00         4\n",
      "          petit jury       0.00      0.00      0.00         2\n",
      "           plaintiff       0.00      0.00      0.00         2\n",
      "           pleadings       0.00      0.00      0.00         1\n",
      "           precedent       0.00      0.00      0.00         1\n",
      "           procedure       0.00      0.00      0.00         1\n",
      "           prosecute       0.00      0.00      0.00         1\n",
      "              record       0.00      0.00      0.00         1\n",
      "              remand       0.00      0.00      0.00         2\n",
      "             reverse       0.00      0.00      0.00         1\n",
      "            sentence       0.00      0.00      0.00         1\n",
      "  service of process       0.00      0.00      0.00         1\n",
      "          settlement       0.00      0.00      0.00         1\n",
      "             sidebar       0.00      0.00      0.00         1\n",
      "             statute       0.00      0.00      0.00         1\n",
      "            subpoena       0.00      0.00      0.00         1\n",
      "subpoena duces tecum       0.00      0.00      0.00         1\n",
      "   summary judgement       0.00      0.00      0.00         1\n",
      "           testimony       0.00      0.00      0.00         1\n",
      "          transcript       0.00      0.00      0.00         3\n",
      "             witness       0.00      0.00      0.00         2\n",
      "\n",
      "         avg / total       0.02      0.12      0.04        88\n",
      "\n"
     ]
    },
    {
     "name": "stderr",
     "output_type": "stream",
     "text": [
      "/home/shaitender/anaconda3/lib/python3.6/site-packages/sklearn/metrics/classification.py:1135: UndefinedMetricWarning: Precision and F-score are ill-defined and being set to 0.0 in labels with no predicted samples.\n",
      "  'precision', 'predicted', average, warn_for)\n"
     ]
    }
   ],
   "source": [
    "print(metrics.classification_report(y_test,predictions))"
   ]
  },
  {
   "cell_type": "code",
   "execution_count": 132,
   "metadata": {},
   "outputs": [
    {
     "data": {
      "text/plain": [
       "['Phrase_Extractor.pickle']"
      ]
     },
     "execution_count": 132,
     "metadata": {},
     "output_type": "execute_result"
    }
   ],
   "source": [
    "# pickle model\n",
    "from sklearn.externals import joblib\n",
    "joblib.dump(model, \"Phrase_Extractor.pickle\")"
   ]
  },
  {
   "cell_type": "code",
   "execution_count": 134,
   "metadata": {},
   "outputs": [
    {
     "data": {
      "text/plain": [
       "array(['court'], dtype=object)"
      ]
     },
     "execution_count": 134,
     "metadata": {},
     "output_type": "execute_result"
    }
   ],
   "source": [
    "model.predict([\"\"\" the traces its origins directly back to 1855, when Congress established the United States Court of Claims to provide for the determination of private claims against the United States government. The legislation was signed into law on February 24, 1855, by President Franklin Pierce. Throughout its 160-year history, although it has undergone notable changes in name, size, scope of jurisdiction, and procedures, its purpose has remained the same: in this court the federal government stands as the defendant and may be sued by citizens seeking monetary redress. For this reason, the court has been referred to as the \"keeper of the nation's conscience\" and \"the People's Court.\"\n",
    "\n",
    "As originally in 1855, the court lacked the essential judicial power to render final judgments. This oversight was resolved by legislation passed in 1866, in response to President Abraham Lincoln's insistence in his Annual Message to Congress in 1861 that, \"It is as much the duty of Government to render prompt justice against itself, in favor of citizens, as it is to administer the same, between private individuals.\"\n",
    "\n",
    "In 1887, Congress passed the Tucker Act, which significantly expanded the court's jurisdiction to include all claims against the government except tort, equitable, and admiralty claims. The court thus today has nationwide jurisdiction over most suits for monetary claims against the government and sits, without a jury, to determine issues of law and fact. The general jurisdiction of the court, described in 28 U.S.C. § 1491,[1] is over claims for just compensation for the taking of private property, refund of federal taxes, military and civilian pay and allowances, and damages for breaches of contracts with the government. The court also possesses jurisdiction over claims for patent and copyright infringement against the United States, as well as over certain suits by Indian tribes.\n",
    "\n",
    "Additionally, the court has jurisdiction to hear both pre-award and post-award bid protest suits by unsuccessful bidders on government contracts.\n",
    "\n",
    "A unique aspect of the court's jurisdiction throughout its history has been the authority to act on congressional references of legislative proposals for compensation of individual claims. As eventually codified in 28 U.S.C. § 1492,[2] either House of Congress may refer a bill to the Chief Judge of the court for an investigation and a report to Congress. A judge of the court is assigned to act as the hearing officer and preside over the judicial proceedings. Then a three-judge review panel submits a report to Congress for its consideration and disposition of such claims for compensation.\n",
    "\n",
    "Befitting its unique role, the court has been located throughout its history in Washington, D.C., in the vicinity of the White House or in the U.S. Capitol Building. It first met in May 1855 at Willard's Hotel. In July of that year, it moved into the Capitol. After briefly using the Supreme Court's chamber in the basement of the Capitol, it then acquired its own rooms there. In 1879, the court obtained space on the ground floor of the Freedman's Bank Building, which stood at the place now occupied by the Treasury Annex, adjacent to the southeast corner of Lafayette Park. Two decades later, in 1899, the court moved to the building formerly occupied by William Corcoran's art collection across Lafayette Park at the intersection of 17th Street and Pennsylvania Avenue.\n",
    "\n",
    "It remained there for 65 years. This building was designed by, and is presently named for, the architect James Renwick, who also designed the Smithsonian Institution's Castle on the National Mall and St. Patrick's Cathedral in New York City. When the facilities there were deemed inadequate by the mid- 1950s, the court asked Congress for a new location. Eventually, the site at 717 Madison Place, NW, was chosen and the court moved to its present home on August 1, 1967.\n",
    "\n",
    "The court's original composition of three judges was expanded to five in 1863. They would consider evidence proffered by claimants and weigh testimony taken by permanent or special commissioners employed by the court, who were dispersed across the United States. One of the first commissioners was Benjamin Harrison of Indiana, who would later become President.[3] If oral argument was requested, the five judges would hear the case en banc. Appeal to the Supreme Court was by right if the amount in dispute was over $3,000. The growth in government caused by and coinciding with World War I made the system unworkable, as the number of filed cases increased considerably. In 1925, legislation enacted by Congress at the request of the court created a separate trial division of seven commissioners and elevated the five judges to an appellate role. Initially, the trial commissioners would function as special masters in chancery and conduct formal proceedings either at the court's home in Washington, D.C., or elsewhere in the United States in a court facility amenable to the parties. The trial procedures evolved to resemble a non-jury civil trial in district court.\n",
    "\n",
    "In 1948, the commissioners were authorized to make recommendations for conclusions of law. The number of commissioners was increased in 1953 to 15. In 1966, Congress provided that there would be seven appellate judges to be appointed by the President with life tenure. In 1973, the title of the commissioners was changed to trial judge and by 1977, the Court of Claims had 16 trial judges who conducted trials of cases in the first instance. Judgments, which are required to be paid out of appropriations by Congress, were originally paid by individual appropriations passed separately or as part of other appropriations bills. In 1955, Congress provided for a standing appropriation for judgments of $100,000 or less. Finally, in 1977, Congress created a permanent, indefinite appropriation for all judgments awarded by the court.\n",
    "\n",
    "The Federal Courts Improvement Act of 1982 created the modern court.[4] While the appellate division of the Court of Claims was combined with the United States Court of Customs and Patent Appeals to comprise the new United States Court of Appeals for the Federal Circuit, the trial division of the Court of Claims became the United States Claims Court (and in 1992, the name was changed to the United States Court of Federal Claims).[5] Appeals from the Court of Federal Claims are taken to the United States Court of Appeals for the Federal Circuit and a judgment there is conclusive unless reviewed by the Supreme Court on writ of certiorari. Decisions of the Court of Claims are binding precedent on both its appellate and trial court successors.\n",
    "\n",
    "The court, as now constituted, consists of 16 judges, appointed by the President and subject to confirmation by the U.S. Senate for terms of 15 years. In addition, judges who have completed their statutory terms of office are authorized to continue to take cases as senior judges of the court. This ongoing tenure serves as a mechanism to ensure judicial impartiality and independence.\n",
    "\n",
    "In recent years, the court's docket has been increasingly characterized by complex, high-dollar demands, and high-profile cases in such areas as, for example, the savings and loan crisis of the 1980s, the World War II internment of Japanese-Americans, and the federal repository of civilian spent nuclear fuel.\n",
    "\n",
    "Nevertheless, despite the nature of the claim, the notability of the claimant, or the amount in dispute, the Court of Federal Claims acts as a clearing house when the government must settle with those it has legally wronged. As observed by former Chief Judge Loren A. Smith, the court is the institutional scale that weighs the government's actions against the standard measure of the law and helps make concrete the spirit of the First Amendment's guarantee of the right \"to petition the Government for redress of grievances.\"[6]\n",
    "\n",
    "The National Childhood Vaccine Injury Act of 1986 gave the court the authority to create an Office of Special Masters to receive and hear certain vaccine injury cases, and the jurisdiction to review those cases.[7] This vaccine injury jurisdiction has been enlarged in recent years to encompass claims stemming from a number of additional vaccines, including, for example, varicella, hepatitis B, and influenza.\n",
    "\n",
    "Though a provision of the Administrative Dispute Resolution Act of 1996 gave the Court of Federal Claims and U.S. districts courts concurrent jurisdiction over post-award protests, subsequent legislation provided that, as of January 2001, that the United States Court of Federal Claims would be the exclusive judicial forum for post-award bid protest litigation.\n",
    "\n",
    "In 2006, the court rendered judgments in more than 900 cases and awarded $1.8 billion in damages. \"\"\"])"
   ]
  },
  {
   "cell_type": "code",
   "execution_count": null,
   "metadata": {},
   "outputs": [],
   "source": []
  }
 ],
 "metadata": {
  "kernelspec": {
   "display_name": "Python 3",
   "language": "python",
   "name": "python3"
  },
  "language_info": {
   "codemirror_mode": {
    "name": "ipython",
    "version": 3
   },
   "file_extension": ".py",
   "mimetype": "text/x-python",
   "name": "python",
   "nbconvert_exporter": "python",
   "pygments_lexer": "ipython3",
   "version": "3.6.5"
  }
 },
 "nbformat": 4,
 "nbformat_minor": 2
}
