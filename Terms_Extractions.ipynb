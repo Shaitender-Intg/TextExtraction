{
 "cells": [
  {
   "cell_type": "code",
   "execution_count": 2,
   "metadata": {},
   "outputs": [],
   "source": [
    "# import necessary modules\n",
    "import numpy as np\n",
    "import pandas as pd\n",
    "import matplotlib.pyplot as plt\n",
    "\n",
    "#import pickle to dump extracted features \n",
    "import pickle\n",
    "\n",
    "#import spacy\n",
    "import spacy\n",
    "from spacy.matcher import PhraseMatcher #import PhraseMatcher class"
   ]
  },
  {
   "cell_type": "code",
   "execution_count": 3,
   "metadata": {},
   "outputs": [],
   "source": [
    "# Lood large English model \n",
    "nlp = spacy.load('en_core_web_lg')"
   ]
  },
  {
   "cell_type": "code",
   "execution_count": 4,
   "metadata": {},
   "outputs": [],
   "source": [
    "# create the PhraseMatcher object\n",
    "matcher = PhraseMatcher(nlp.vocab, attr=\"LOWER\")"
   ]
  },
  {
   "cell_type": "code",
   "execution_count": 5,
   "metadata": {},
   "outputs": [],
   "source": [
    "def read_file(file_path):\n",
    "    with open(file_path) as f:\n",
    "        str_text = f.read()\n",
    "    \n",
    "    return str_text.replace(\"\\n\", \"\")\n",
    "   "
   ]
  },
  {
   "cell_type": "code",
   "execution_count": 6,
   "metadata": {},
   "outputs": [],
   "source": [
    "#text = read_file('/home/shaitender/Assignment/Data/Input/Legal_Terms.txt')\n",
    "doc_text = read_file('./Data/Input/Legal_doc.txt')"
   ]
  },
  {
   "cell_type": "code",
   "execution_count": 7,
   "metadata": {},
   "outputs": [
    {
     "name": "stdout",
     "output_type": "stream",
     "text": [
      "acquittal Judgement that a criminal defendant has not been proved guilty beyond a reasonable doubt. at auctor urna nunc id. Porttitor leo a diam sollicitudin tempor. Justo nec ultrices dui sapien eget. Sapien nec sagittis aliquam malesuada bibendum arcu. Velit euismod in pellentesque massa placerat duis ultricies lacus sed. At elementum eu facilisis sed odio. Elementum nisi quis eleifend quam adipiscing. Posuere urna nec tincidunt praesent semper. Amet consectetur adipiscing elit ut aliquam purus sit amet luctus. Vel fringilla est ullamcorper eget. Enim lobortis scelerisque fermentum dui faucibus in ornare. Ornare suspendisse sed nisi lacus sed viverra tellus in hac. Enim neque volutpat ac tincidunt vitae semper. Tristique senectus et netus et malesuada. Lacus laoreet non curabitur gravida arcu ac tortor dignissim convallis. Habitant morbi tristique senectus et netus. Aliquam malesuada bibendum arcu vitae elementum curabitur vitae nunc. Viverra nibh cras pulvinar mattis nunc sed blandit libero volutpat. At tellus at urna condimentum mattis pellentesque id nibh tortor.affidavit A written statement of facts confirmed by the oath of the party making it, before a notary or officer having authority to administer oaths.affirmed In the practice of the appellate courts, the decree or order is declared valid and will stand as rendered in the lower court.answer The formal written statement by a defendant responding to a civil complaint and setting forth the grounds for defense. appeal A request made after a trial, asking another court (usually the court of appeals) to decide whether the trial was conducted properly. To make such a request is \"to appeal\" or \"to take an appeal.\" One who appeals is called the appellant. appellate About appeals; an appellate court has the power to review the judgement of another lower court or tribunal.Lorem ipsum dolor sit amet, consectetur adipiscing elit, sed do eiusmod tempor incididunt ut labore et dolore magna aliqua. Suspendisse in est ante in nibh mauris cursus. Orci dapibus ultrices in iaculis. Libero enim sed faucibus turpis. Sed ullamcorper morbi tincidunt ornare massa eget. Aliquet bibendum enim facilisis gravida neque convallis a cras semper. Tempor id eu nisl nunc. Tellus cras adipiscing enim eu turpis egestas pretium aenean pharetra. Adipiscing commodo elit at imperdiet dui accumsan sit amet. Feugiat scelerisque varius morbi enim nunc faucibus. Malesuada bibendum arcu vitae elementum curabitur vitae nunc. Semper quis lectus nulla at volutpat diam ut. Sagittis orci a scelerisque purus semper eget duis. Amet nisl purus in mollis nunc sed id semper. Tristique nulla aliquet enim tortor at auctor urna nunc. Ipsum dolor sit amet consectetur adipiscing. Sociis natoque penatibus et magnis dis parturient montes nascetur ridiculus. Fermentum iaculis eu non diam phasellus vestibulum lorem sed risus.Accumsan in nisl nisi scelerisque eu ultrices vitae auctor eu. Augue eget arcu dictum varius duis at consectetur.Nec dui nunc mattis enim ut tellus. Congue nisi vitae suscipit tellus mauris a diam. Ligula ullamcorper malesuada proin libero nunc consequat. Ut faucibus pulvinar elementum integer. Euismod elementum nisi quis eleifend quam. Amet nulla facilisi morbi tempus iaculis urna id. Sed viverra tellus in hac. Purus in mollis nunc sed id semper risus in. In hendrerit gravida rutrum quisque non tellus orci ac auctor. Auctor elit sed vulputate mi sit amet mauris commodo. Imperdiet sed euismod nisi porta lorem mollis aliquam ut. Eget sit amet tellus cras. Sit amet consectetur adipiscing elit pellentesque. Lacinia quis vel eros donec ac.Ultricies leo integer malesuada nunc vel risus commodo viverra. Tristique nulla aliquet enim tortor at auctor urna nunc id.Porttitor leo a diam sollicitudin tempor. Justo nec ultrices dui sapien eget. Sapien nec sagittis aliquam malesuada bibendum arcu. Velit euismod in pellentesque massa placerat duis ultricies lacus sed. At elementum eu facilisis sed odio. Elementum nisi quis eleifend quam adipiscing. Posuere urna nec tincidunt praesent semper. Amet consectetur adipiscing elit ut aliquam purus sit amet luctus. Vel fringilla est ullamcorper eget. Enim lobortis scelerisque fermentum dui faucibus in ornare. Ornare suspendisse sed nisi lacus sed viverra tellus in hac. Enim neque volutpat ac tincidunt vitae semper. Tristique senectus et netus et malesuada. Lacus laoreet non curabitur gravida arcu ac tortor dignissim convallis. Habitant morbi tristique senectus et netus. Aliquam malesuada bibendum arcu vitae elementum curabitur vitae nunc. Viverra nibh cras pulvinar mattis nunc sed blandit libero volutpat. At tellus at urna condimentum mattis pellentesque id nibh tortor.arraignment A proceeding in which an individual who is accused of committing a crime is brought into court, told of the charges, and asked to plead guilty or not guilty. bail Security given for the release of a criminal defendant or witness from legal custody (usually in the form of money) to secure his appearance on the day and time appointed.bankruptcy Refers to statutes and judicial proceedings involving persons or businesses that cannot pay their debts and seek the assistance of the court in getting a fresh start. Under the protection of the bankruptcy court, debtors may discharge their debts, perhaps by paying a portion of each debt. Bankruptcy judges preside over these proceedingsbench trial Trial without a jury in which a judge decides the facts.brief A written statement submitted by the lawyer for each side in a case that explains to the judges why they should decide the case or a particular part of a case in favor of that lawyer's client. chambers A judge's office.Certain type of clause in a will creating a fideicommissum by imposing a condition on the will beneficiary that if (s)he dies childless, the testamentary gift will transfer to a third party. Ex: If A dies childless after my death, the farm must go to B.[4] See fideicommissum.capital offense A crime punishable by death. Lorem ipsum dolor sit amet, consectetur adipiscing elit, sed do eiusmod tempor incididunt ut labore et dolore magna aliqua. Suspendisse in est ante in nibh mauris cursus. Orci dapibus ultrices in iaculis. Libero enim sed faucibus turpis. Sed ullamcorper morbi tincidunt ornare massa eget. Aliquet bibendum enim facilisis gravida neque convallis a cras semper. Tempor id eu nisl nunc. Tellus cras adipiscing enim eu turpis egestas pretium aenean pharetra. Adipiscing commodo elit at imperdiet dui accumsan sit amet. Feugiat scelerisque varius morbi enim nunc faucibus. Malesuada bibendum arcu vitae elementum curabitur vitae nunc. Semper quis lectus nulla at volutpat diam ut. Sagittis orci a scelerisque purus semper eget duis. Amet nisl purus in mollis nunc sed id semper. Tristique nulla aliquet enim tortor at auctor urna nunc. Ipsum dolor sit amet consectetur adipiscing. Sociis natoque penatibus et magnis dis parturient montes nascetur ridiculus. Fermentum iaculis eu non diam phasellus vestibulum lorem sed risus.Accumsan in nisl nisi scelerisque eu ultrices vitae auctor eu. Augue eget arcu dictum varius duis at consectetur. Nec dui nunc mattis enim ut tellus. Congue nisi vitae suscipit tellus mauris a diam. Ligula ullamcorper malesuada proin libero nunc consequat. Ut faucibus pulvinar elementum integer. Euismod elementum nisi quis eleifend quam. Amet nulla facilisi morbi tempus iaculis urna id. Sed viverra tellus in hac. Purus in mollis nunc sed id semper risus in. In hendrerit gravida rutrum quisque non tellus orci ac auctor. Auctor elit sed vulputate mi sit amet mauris commodo. Imperdiet sed euismod nisi porta lorem mollis aliquam ut. Eget sit amet tellus cras. Sit amet consectetur adipiscing elit pellentesque. Lacinia quis vel eros donec ac.Ultricies leo integer malesuada nunc vel risus commodo viverra. Tristique nulla aliquet enim tortor at auctor urna nunc id. Porttitor leo a diam sollicitudin tempor. Justo nec ultrices dui sapien eget. Sapien nec sagittis aliquam malesuada bibendum arcu. Velit euismod in pellentesque massa placerat duis ultricies lacus sed. At elementum eu facilisis sed odio. Elementum nisi quis eleifend quam adipiscing. Posuere urna nec tincidunt praesent semper. Amet consectetur adipiscing elit ut aliquam purus sit amet luctus. Vel fringilla est ullamcorper eget. Enim lobortis scelerisque fermentum dui faucibus in ornare. Ornare suspendisse sed nisi lacus sed viverra tellus in hac. Enim neque volutpat ac tincidunt vitae semper. Tristique senectus et netus et malesuada. Lacus laoreet non curabitur gravida arcu ac tortor dignissim convallis. Habitant morbi tristique senectus et netus. Aliquam malesuada bibendum arcu vitae elementum curabitur vitae nunc. Viverra nibh cras pulvinar mattis nunc sed blandit libero volutpat.At tellus at urna condimentum mattis pellentesque id nibh tortor.case law The law as laid down in cases that have been decided in the decisions of the courts. charge to the jury The judge's instructions to the jury concerning the law that applies to the facts of the case on trial.chief judge The judge who has primary responsibility for the administration of a court but also decides cases; chief judges are determined by seniority.circumstantial evidence All evidence except eyewitness testimony. clerk of court An officer appointed by the court to work with the chief judge in overseeing the court's administration, especially to assist in managing the flow of cases through the court and to maintain court records. common law The legal system that originated in England and is now in use in the United States. It is based on judicial decisions rather than legislative action. complaint A written statement by the plaintiff stating the wrongs allegedly committed by the defendant. contract An agreement between two or more persons that creates an obligation to do or not to do a particular thing. conviction A judgement of guilt against a criminal defendant. counsel Legal advice; a term used to refer to lawyers in a case. Lorem ipsum dolor sit amet, consectetur adipiscing elit, sed do eiusmod tempor incididunt ut labore et dolore magna aliqua. Suspendisse in est ante in nibh mauris cursus. Orci dapibus ultrices in iaculis. Libero enim sed faucibus turpis. Sed ullamcorper morbi tincidunt ornare massa eget. Aliquet bibendum enim facilisis gravida neque convallis a cras semper. Tempor id eu nisl nunc. Tellus cras adipiscing enim eu turpis egestas pretium aenean pharetra. Adipiscing commodo elit at imperdiet dui accumsan sit amet. Feugiat scelerisque varius morbi enim nunc faucibus. Malesuada bibendum arcu vitae elementum curabitur vitae nunc. Semper quis lectus nulla at volutpat diam ut. Sagittis orci a scelerisque purus semper eget duis. Amet nisl purus in mollis nunc sed id semper. Tristique nulla aliquet enim tortor at auctor urna nunc. Ipsum dolor sit amet consectetur adipiscing. Sociis natoque penatibus et magnis dis parturient montes nascetur ridiculus. Fermentum iaculis eu non diam phasellus vestibulum lorem sed risus.Accumsan in nisl nisi scelerisque eu ultrices vitae auctor eu. Augue eget arcu dictum varius duis at consectetur. Nec dui nunc mattis enim ut tellus. Congue nisi vitae suscipit tellus mauris a diam. Ligula ullamcorper malesuada proin libero nunc consequat. Ut faucibus pulvinar elementum integer. Euismod elementum nisi quis eleifend quam. Amet nulla facilisi morbi tempus iaculis urna id. Sed viverra tellus in hac. Purus in mollis nunc sed id semper risus in. In hendrerit gravida rutrum quisque non tellus orci ac auctor. Auctor elit sed vulputate mi sit amet mauris commodo. Imperdiet sed euismod nisi porta lorem mollis aliquam ut. Eget sit amet tellus cras. Sit amet consectetur adipiscing elit pellentesque. Lacinia quis vel eros donec ac.Ultricies leo integer malesuada nunc vel risus commodo viverra. Tristique nulla aliquet enim tortor at auctor urna nunc id. Porttitor leo a diam sollicitudin tempor. Justo nec ultrices dui sapien eget. Sapien nec sagittis aliquam malesuada bibendum arcu. Velit euismod in pellentesque massa placerat duis ultricies lacus sed. At elementum eu facilisis sed odio. Elementum nisi quis eleifend quam adipiscing. Posuere urna nec tincidunt praesent semper. Amet consectetur adipiscing elit ut aliquam purus sit amet luctus. Vel fringilla est ullamcorper eget. Enim lobortis scelerisque fermentum dui faucibus in ornare. Ornare suspendisse sed nisi lacus sed viverra tellus in hac. Enim neque volutpat ac tincidunt vitae semper. Tristique senectus et netus et malesuada. Lacus laoreet non curabitur gravida arcu ac tortor dignissim convallis. Habitant morbi tristique senectus et netus. Aliquam malesuada bibendum arcu vitae elementum curabitur vitae nunc. Viverra nibh cras pulvinar mattis nunc sed blandit libero volutpat. At tellus at urna condimentum mattis pellentesque id nibh tortor.Lorem ipsum dolor sit amet, consectetur adipiscing elit, sed do eiusmod tempor incididunt ut labore et dolore magna aliqua. Suspendisse in est ante in nibh mauris cursus. Orci dapibus ultrices in iaculis. Libero enim sed faucibus turpis. Sed ullamcorper morbi tincidunt ornare massa eget. Aliquet bibendum enim facilisis gravida neque convallis a cras semper. Tempor id eu nisl nunc. Tellus cras adipiscing enim eu turpis egestas pretium aenean pharetra. Adipiscing commodo elit at imperdiet dui accumsan sit amet. Feugiat scelerisque varius morbi enim nunc faucibus. Malesuada bibendum arcu vitae elementum curabitur vitae nunc. Semper quis lectus nulla at volutpat diam ut. Sagittis orci a scelerisque purus semper eget duis. Amet nisl purus in mollis nunc sed id semper. Tristique nulla aliquet enim tortor at auctor urna nunc. Ipsum dolor sit amet consectetur adipiscing. Sociis natoque penatibus et magnis dis parturient montes nascetur ridiculus. Fermentum iaculis eu non diam phasellus vestibulum lorem sed risus.Accumsan in nisl nisi scelerisque eu ultrices vitae auctor eu. Augue eget arcu dictum varius duis at consectetur. Nec dui nunc mattis enim ut tellus. Congue nisi vitae suscipit tellus mauris a diam. Ligula ullamcorper malesuada proin libero nunc consequat. Ut faucibus pulvinar elementum integer. Euismod elementum nisi quis eleifend quam. Amet nulla facilisi morbi tempus iaculis urna id. Sed viverra tellus in hac. Purus in mollis nunc sed id semper risus in. In hendrerit gravida rutrum quisque non tellus orci ac auctor. Auctor elit sed vulputate mi sit amet mauris commodo. Imperdiet sed euismod nisi porta lorem mollis aliquam ut. Eget sit amet tellus cras. Sit amet consectetur adipiscing elit pellentesque. Lacinia quis vel eros donec ac.Ultricies leo integer malesuada nunc vel risus commodo viverra. Tristique nulla aliquet enim tortor at auctor urna nunc id. Porttitor leo a diam sollicitudin tempor. Justo nec ultrices dui sapien eget. Sapien nec sagittis aliquam malesuada bibendum arcu. Velit euismod in pellentesque massa placerat duis ultricies lacus sed. At elementum eu facilisis sed odio. Elementum nisi quis eleifend quam adipiscing. Posuere urna nec tincidunt praesent semper. Amet consectetur adipiscing elit ut aliquam purus sit amet luctus. Vel fringilla est ullamcorper eget. Enim lobortis scelerisque fermentum dui faucibus in ornare. Ornare suspendisse sed nisi lacus sed viverra tellus in hac. Enim neque volutpat ac tincidunt vitae semper. Tristique senectus et netus et malesuada. Lacus laoreet non curabitur gravida arcu ac tortor dignissim convallis. Habitant morbi tristique senectus et netus. Aliquam malesuada bibendum arcu vitae elementum curabitur vitae nunc. Viverra nibh cras pulvinar mattis nunc sed blandit libero volutpat. At tellus at urna condimentum mattis pellentesque id nibh tortor.counterclaim A claim that a defendant makes against a plaintiff. court Government entity authorized to resolve legal disputes. Judges sometimes use \"court\" to refer to themselves in the third person, as in \"the court has read the briefs.\" court reporter A person who makes a word-for-word record of what is said in court and produces a transcript of the proceedings upon request. damages Money paid by defendants to successful plaintiffs in civil cases to compensate the plaintiffs for their injuries. default judgement A judgement rendered because of the defendant's failure to answer or appear. defendant In a civil suit, the person complained against; in a criminal case, the person accused of the crime. deposition An oral statement made before an officer authorized by law to administer oaths. Such statements are often taken to examine potential witnesses, to obtain discovery, or to be used later in trial. discovery Lawyers' examination, before trial, of facts and documents in possession of the opponents to help the lawyers prepare for trial. docket A log containing brief entries of court proceedings. en banc \"In the bench\" or \"full bench.\" Refers to court sessions with the entire membership of a court participating rather than the usual quorum. U.S. courts of appeals usually sit in panels of three judges, but may expand to a larger number in certain cases. They are then said to be sitting en banc. evidence Information presented in testimony or in documents that is used to persuade the fact finder (judge or jury) to decide the case for one side or the other. federal question Jurisdiction given to federal courts in cases involving the interpretation and application of the U.S. Constitution, acts of Congress, and treaties. felony A crime carrying a penalty of more than a year in prison. file To place a paper in the official custody of the clerk of court to enter into the files or records of a case. grand jury A body of citizens who listen to evidence of criminal allegations, which are presented by the government, and determines whether there is probable cause to believe the offense was committed. As it is used in federal criminal cases, \"the government\" refers to the lawyers of the U.S. attorney's office who are prosecuting the case. habeas corpus A writ that is usually used to bring a prisoner before the court to determine the legality of his imprisonment. It may also be used to bring a person in custody before the court to give testimony, or to be prosecuted. hearsay Statements by a witness who did not see or hear the incident in question but heard about it from someone else. Hearsay is usually not admissible as evidence in court. impeachment (1) The process of calling something into question, as in \"impeaching the testimony of a witness.\" (2) The constitutional process whereby the House of Representatives may \"impeach\" (accuse of misconduct) high officers of the federal government for trial in the Senate. indictment The formal charge issued by a grand jury stating that there is enough evidence that the defendant committed the crime to justify having a trial; it is used primarily for felonies. in forma pauperisIn the manner of a pauper. Permission given to a person to sue without payment of court fees on claim of indigence or poverty. information A formal accusation by a government attorney that the defendant committed a misdemeanor. Accumsan in nisl nisi scelerisque eu ultrices vitae auctor eu. Augue eget arcu dictum varius duis at consectetur. Nec dui nunc mattis enim ut tellus. Congue nisi vitae suscipit tellus mauris a diam. Ligula ullamcorper malesuada proin libero nunc consequat. Ut faucibus pulvinar elementum integer. Euismod elementum nisi quis eleifend quam. Amet nulla facilisi morbi tempus iaculis urna id. Sed viverra tellus in hac. Purus in mollis nunc sed id semper risus in. In hendrerit gravida rutrum quisque non tellus orci ac auctor. Auctor elit sed vulputate mi sit amet mauris commodo. Imperdiet sed euismod nisi porta lorem mollis aliquam ut. Eget sit amet tellus cras. Sit amet consectetur adipiscing elit pellentesque. Lacinia quis vel eros donec ac.Ultricies leo integer malesuada nunc vel risus commodo viverra. Tristique nulla aliquet enim tortor at auctor urna nunc id. Porttitor leo a diam sollicitudin tempor. Justo nec ultrices dui sapien eget. Sapien nec sagittis aliquam malesuada bibendum arcu. Velit euismod in pellentesque massa placerat duis ultricies lacus sed. At elementum eu facilisis sed odio. Elementum nisi quis eleifend quam adipiscing. Posuere urna nec tincidunt praesent semper. Amet consectetur adipiscing elit ut aliquam purus sit amet luctus. Vel fringilla est ullamcorper eget. Enim lobortis scelerisque fermentum dui faucibus in ornare. Ornare suspendisse sed nisi lacus sed viverra tellus in hac. Enim neque volutpat ac tincidunt vitae semper. Tristique senectus et netus et malesuada. Lacus laoreet non curabitur gravida arcu ac tortor dignissim convallis. Habitant morbi tristique senectus et netus. Aliquam malesuada bibendum arcu vitae elementum curabitur vitae nunc. Viverra nibh cras pulvinar mattis nunc sed blandit libero volutpat. At tellus at urna condimentum mattis pellentesque id nibh tortor.injunction An order of the court prohibiting (or compelling) the performance of a specific act to prevent irreparable damage or injury. instructions Judge's explanation to the jury before it begins deliberations of the questions it must answer and the law governing the case. interrogatories Written questions asked by one party of an opposing party, who must answer them in writing under oath; a discovery device in a lawsuit. issue (1) The disputed point in a disagreement between parties in a lawsuit. (2) To send out officially, as in to issue an order. judge Government official with authority to decide lawsuits brought before courts. Other judicial officers in the U.S. courts system are Supreme Court justices. judgement The official decision of a court finally determining the respective rights and claims of the parties to a suit.jurisdiction (1) The legal authority of a court to hear and decide a case. Concurrent jurisdiction exists when two courts have simultaneous responsibility for the same case. (2) The geographic area over which the court has authority to decide cases.jury Persons selected according to law and sworn to inquire into and declare a verdict on matters of fact. jurisprudence The study of law and the structure of the legal system. lawsuit A legal action started by a plaintiff against a defendant based on a complaint that the defendant failed to perform a legal duty, resulting in harm to the plaintiff.litigation A case, controversy, or lawsuit. Participants (plaintiffs and defendants) in lawsuits are called litigants. magistrate judges Judicial officers who assist U.S. district judges in getting cases ready for trial, who may decide some criminal and civil trials when both parties agree to have the case heard by a magistrate judge instead of a judge.misdemeanor Usually a petty offense, a less serious crime than a felony, punishable by less than a year of confinement.mistrial An invalid trial, caused by fundamental error. When a mistrial is declared, the trial must start again from the selection of the jury.nolo contendere No contest-has the same effect as a plea of guilty, as far as the criminal sentence is concerned, but may not be considered as an admission of guilt for any other purpose.opinion A judge's written explanation of a decision of the court or of a majority of judges. A dissenting opinion disagrees with the majority opinion because of the reasoning and/or the principles of law on which the decision is based. A concurring opinion agrees with the decision of the court but offers further comment.oral argument An opportunity for lawyers to summarize their position before the court and also to answer the judges' questions.Laoreet sit amet cursus sit amet dictum sit. Facilisis leo vel fringilla est. Vestibulum morbi blandit cursus risus at ultrices mi. Amet purus gravida quis blandit turpis cursus in hac. Velit euismod in pellentesque massa placerat duis. Cursus turpis massa tincidunt dui ut ornare. Est lorem ipsum dolor sit amet consectetur. Auctor urna nunc id cursus metus aliquam. Scelerisque felis imperdiet proin fermentum leo vel orci porta. Egestas sed tempus urna et pharetra pharetra massa. Amet commodo nulla facilisi nullam vehicula ipsum a arcu cursus. Massa vitae tortor condimentum lacinia quis vel eros donec. Mattis pellentesque id nibh tortor id. Porttitor massa id neque aliquam. Faucibus nisl tincidunt eget nullam non nisi est sit amet.panel (1) In appellate cases, a group of judges (usually three) assigned to decide the case; (2) In the jury selection process, the group of potential jurors.parties Plaintiffs and defendants (petitioners and respondents) to lawsuits, also known as appellants and appellees in appeals, and their lawyers.petit jury (or trial jury) A group of citizens who hear the evidence presented by both sides at trial and determine the facts in dispute. Federal criminal juries consist of 12 persons. Federal civil juries consist of six persons.plaintiff The person who files the complaint in a civil lawsuit.plea In a criminal case, the defendant's statement pleading \"guilty\" or \"not guilty\" in answer to the charges, a declaration made in open court.pleadings Written statements of the parties in a civil case of their positions. In the federal courts, the principal pleadings are the complaint and the answer.precedent A court decision in an earlier case with facts and law similar to a dispute currently before a court. Precedent will ordinarily govern the decision of a later similar case, unless a party can show that it was wrongly decided or that it differed in some significant way.procedure The rules for the conduct of a lawsuit; there are rules of civil, criminal, evidence, bankruptcy, and appellate procedure.pretrial conference A meeting of the judge and lawyers to discuss which matters should be presented to the jury, to review evidence and witnesses, to set a timetable, and to discuss the settlement of the case.probation A sentencing alternative to imprisonment in which the court releases convicted defendants under supervision as long as certain conditions are observed.pro se A Latin term meaning \"on one's own behalf\"; in courts, it refers to persons who present their own cases without lawyers.prosecute To charge someone with a crime. A prosecutor tries a criminal case on behalf of the government.record A written account of all the acts and proceedings in a lawsuit.remand When an appellate court sends a case back to a lower court for further proceedings.reverse When an appellate court sets aside the decision of a lower court because of an error. A reversal is often followed by a remand.sentence The punishment ordered by a court for a defendant convicted of a crime.service of process The service of writs or summonses to the appropriate party.settlement Parties to a lawsuit resolve their difference without having a trial. Settlements often involve the payment of compensation by one party in satisfaction of the other party's claims.sequester To separate. Sometimes juries are sequestered from outside influences during their deliberations.sidebar A conference between the judge and lawyers held out of earshot of the jury and spectators.statute A law passed by a legislature.Ultrices in iaculis nunc sed augue lacus viverra vitae congue. Scelerisque eu ultrices vitae auctor eu. Et netus et malesuada fames. Congue mauris rhoncus aenean vel elit. At erat pellentesque adipiscing commodo elit. Fames ac turpis egestas integer. Aliquet porttitor lacus luctus accumsan. Dui ut ornare lectus sit amet est placerat in. Nulla posuere sollicitudin aliquam ultrices sagittis. Pretium lectus quam id leo in vitae turpis. Turpis cursus in hac habitasse platea dictumst quisque sagittis. Mauris commodo quis imperdiet massa tincidunt nunc. Dui vivamus arcu felis bibendum ut tristique et.Adipiscing enim eu turpis egestas pretium aenean pharetra. Lectus nulla at volutpat diam ut. Nibh praesent tristique magna sit amet purus. Vel elit scelerisque mauris pellentesque pulvinar pellentesque habitant morbi tristique. Sollicitudin ac orci phasellus egestas tellus rutrum. Tortor id aliquet lectus proin nibh nisl condimentum id venenatis. Id volutpat lacus laoreet non curabitur gravida arcu. Et netus et malesuada fames ac turpis egestas maecenas. Vitae congue eu consequat ac felis donec. Faucibus a pellentesque sit amet porttitor eget. Volutpat sed cras ornare arcu.Sed viverra tellus in hac habitasse platea dictumst vestibulum. Adipiscing commodo elit at imperdiet dui accumsan sit. Dolor purus non enim praesent elementum. Sed id semper risus in hendrerit. At auctor urna nunc id cursus metus. Phasellus vestibulum lorem sed risus. Cras adipiscing enim eu turpis egestas pretium aenean pharetra. Sit amet consectetur adipiscing elit pellentesque. Nullam ac tortor vitae purus. Amet massa vitae tortor condimentum. Sed lectus vestibulum mattis ullamcorper. Pulvinar neque laoreet suspendisse interdum consectetur. Facilisi etiam dignissim diam quis enim. Tortor dignissim convallis aenean et tortor at risus viverra adipiscing. Egestas congue quisque egestas diam in arcu cursus euismod. Morbi leo urna molestie at elementum eu. Eget nullam non nisi est sit amet facilisis magna. Sapien et ligula ullamcorper malesuada proin libero.Felis eget velit aliquet sagittis id. Quisque id diam vel quam elementum. Sed viverra tellus in hac. Pharetra et ultrices neque ornare aenean euismod elementum nisi. Nunc sed velit dignissim sodales ut. Lectus sit amet est placerat in egestas erat imperdiet sed. Massa sed elementum tempus egestas. Sollicitudin ac orci phasellus egestas tellus rutrum tellus pellentesque eu. Nam libero justo laoreet sit amet. Sed viverra tellus in hac habitasse. Et tortor at risus viverra. Praesent semper feugiat nibh sed. Lacus viverra vitae congue eu consequat. Libero volutpat sed cras ornare arcu dui vivamus arcu felis. Odio eu feugiat pretium nibh ipsum consequat nisl. Neque viverra justo nec ultrices. Cursus euismod quis viverra nibh cras pulvinar mattis nunc sed. Posuere morbi leo urna molestie at.Proin sed libero enim sed faucibus. Morbi tincidunt augue interdum velit euismod in pellentesque massa placerat. Malesuada fames ac turpis egestas sed. Tempus quam pellentesque nec nam aliquam sem. Sit amet consectetur adipiscing elit. Et egestas quis ipsum suspendisse ultrices gravida. Amet nulla facilisi morbi tempus iaculis urna id. Ac auctor augue mauris augue neque gravida in fermentum. Semper auctor neque vitae tempus quam pellentesque nec. Commodo nulla facilisi nullam vehicula ipsum a arcu cursus. Euismod nisi porta lorem mollis aliquam ut porttitor. Diam vulputate ut pharetra sit amet aliquam. Porttitor leo a diam sollicitudin tempor id eu nisl nunc. Malesuada pellentesque elit eget gravida cum. Habitant morbi tristique senectus et netus et malesuada fames. Aliquet bibendum enim facilisis gravida neque convallis a. Eu volutpat odio facilisis mauris sit amet massa vitae tortor. Cursus euismod quis viverra nibh cras pulvinar. Lacus vel facilisis volutpat est velit egestas dui.statute of limitations A law that sets the time within which parties must take action to enforce their rights.subpoena A command to a witness to appear and give testimony.subpoena duces tecum A command to a witness to produce documents.summary judgement A decision made on the basis of statements and evidence presented for the record without a trial. It is used when there is no dispute as to the facts of the case, and one party is entitled to judgement as a matter of law.temporary restraining order Prohibits a person from an action that is likely to cause irreparable harm. This differs from an injunction in that it may be granted immediately, without notice to the opposing party, and without a hearing. It is intended to last only until a hearing can be held.testimony Evidence presented orally by witnesses during trials or before grand juries.tort A civil wrong or breach of a duty to another person, as outlined by law. A very common tort is negligent operation of a motor vehicle that results in property damage and personal injury in an automobile accident.witness A person called upon by either side in a lawsuit to give testimony before the court or jury.writ A formal written command, issued from the court, requiring the performance of a specific act.writ of certiorari An order issued by the Supreme Court directing the lower court to transmit records for a case for which it will hear on appeal.transcript A written, word-for-word record of what was said, either in a proceeding such as a trial or during some other conversation, as in a transcript of a hearing or oral deposition.uphold The decision of an appellate court not to reverse a lower court decision.U.S. attorney A lawyer appointed by the President in each judicial district to prosecute and defend cases for the federal government.venue The geographical location in which a case is tried.verdict The decision of a petit jury or a judge.voir dire The process by which judges and lawyers select a petit jury from among those eligible to serve, by questioning them to determine knowledge of the facts of the case and a willingness to decide the case only on the evidence presented in court. \"Voir dire\" is a phrase meaning \"to speak the truth.\"Laoreet sit amet cursus sit amet dictum sit. Facilisis leo vel fringilla est. Vestibulum morbi blandit cursus risus at ultrices mi. Amet purus gravida quis blandit turpis cursus in hac. Velit euismod in pellentesque massa placerat duis. Cursus turpis massa tincidunt dui ut ornare. Est lorem ipsum dolor sit amet consectetur. Auctor urna nunc id cursus metus aliquam. Scelerisque felis imperdiet proin fermentum leo vel orci porta. Egestas sed tempus urna et pharetra pharetra massa. Amet commodo nulla facilisi nullam vehicula ipsum a arcu cursus. Massa vitae tortor condimentum lacinia quis vel eros donec. Mattis pellentesque id nibh tortor id. Porttitor massa id neque aliquam. Faucibus nisl tincidunt eget nullam non nisi est sit amet.Mauris a diam maecenas sed enim ut sem viverra aliquet. Diam sollicitudin tempor id eu nisl nunc mi. Sit amet tellus cras adipiscing enim eu turpis egestas. Vitae tortor condimentum lacinia quis vel eros donec ac. Semper feugiat nibh sed pulvinar. Sapien et ligula ullamcorper malesuada proin libero nunc. Vel facilisis volutpat est velit egestas. Turpis egestas integer eget aliquet nibh praesent tristique magna sit. Urna condimentum mattis pellentesque id nibh tortor id aliquet. Feugiat sed lectus vestibulum mattis ullamcorper velit sed ullamcorper. Hendrerit gravida rutrum quisque non tellus.warrant A written order directing the arrest of a party. A search warrant orders that a specific location be searched for items, which if found, can be used in court as evidence.\n"
     ]
    }
   ],
   "source": [
    "print(doc_text)"
   ]
  },
  {
   "cell_type": "code",
   "execution_count": 8,
   "metadata": {},
   "outputs": [],
   "source": [
    "#read terms as list\n",
    "with open('./Data/Input/Legal_Terms.txt') as f:\n",
    "    terms = f.readlines()\n",
    "    \n",
    "terms = [t.rstrip() for t in terms]"
   ]
  },
  {
   "cell_type": "code",
   "execution_count": 9,
   "metadata": {},
   "outputs": [
    {
     "data": {
      "text/plain": [
       "113"
      ]
     },
     "execution_count": 9,
     "metadata": {},
     "output_type": "execute_result"
    }
   ],
   "source": [
    "len(terms)"
   ]
  },
  {
   "cell_type": "code",
   "execution_count": 10,
   "metadata": {},
   "outputs": [
    {
     "data": {
      "text/plain": [
       "['Identity of the parties',\n",
       " 'Purpose of the agreement',\n",
       " 'Contractual terms',\n",
       " 'Underlying assumptions',\n",
       " 'Warranties and disclaimers',\n",
       " 'Liquidated damages',\n",
       " 'Liability limitations',\n",
       " 'Confidentiality provision',\n",
       " 'Default',\n",
       " 'Governing law',\n",
       " 'Arbitration clause',\n",
       " 'Indemnification agreement',\n",
       " 'Lawsuit venues',\n",
       " 'Signatures of authorized parties',\n",
       " 'Statement constituting entire agreement',\n",
       " 'Offer and acceptance',\n",
       " 'Parties who can legally agree to terms',\n",
       " 'Lawful subject matter',\n",
       " 'Valuable consideration',\n",
       " 'Mutuality of agreement and obligation',\n",
       " 'acquittal',\n",
       " 'affidavit',\n",
       " 'agreement',\n",
       " 'affirme',\n",
       " 'answer',\n",
       " 'appeal',\n",
       " 'appellate',\n",
       " 'arraignment',\n",
       " 'bail',\n",
       " 'bankruptcy',\n",
       " 'bench trial',\n",
       " 'brief',\n",
       " 'chambers',\n",
       " 'capital offense',\n",
       " 'case law',\n",
       " 'charge to the jury',\n",
       " 'chief judge',\n",
       " 'circumstantial evidence',\n",
       " 'clerk of court',\n",
       " 'common law',\n",
       " 'complaint',\n",
       " 'contract',\n",
       " 'conviction',\n",
       " 'counsel',\n",
       " 'counterclaim',\n",
       " 'court',\n",
       " 'court reporter',\n",
       " 'damages',\n",
       " 'default judgement',\n",
       " 'defendant',\n",
       " 'deposition',\n",
       " 'discovery',\n",
       " 'docket',\n",
       " 'evidence',\n",
       " 'federal question',\n",
       " 'felony',\n",
       " 'file',\n",
       " 'habeas corpus',\n",
       " 'hearsay',\n",
       " 'impeachment',\n",
       " 'indictment',\n",
       " 'information',\n",
       " 'injunction',\n",
       " 'instructions',\n",
       " 'interrogatories',\n",
       " 'issue',\n",
       " 'judge',\n",
       " 'judgement',\n",
       " 'jurisdiction',\n",
       " 'jury',\n",
       " 'jurisprudence',\n",
       " 'lawsuit',\n",
       " 'litigation',\n",
       " 'magistrate judges',\n",
       " 'misdemeanor',\n",
       " 'mistrial',\n",
       " 'nolo contendere',\n",
       " 'opinion',\n",
       " 'oral argument',\n",
       " 'panel',\n",
       " 'parties',\n",
       " 'petit jury',\n",
       " 'plaintiff',\n",
       " 'plea',\n",
       " 'pleadings',\n",
       " 'precedent',\n",
       " 'procedure',\n",
       " 'pretrial conference',\n",
       " 'probation',\n",
       " 'prosecute',\n",
       " 'record',\n",
       " 'remand',\n",
       " 'reverse',\n",
       " 'sentence',\n",
       " 'service of process',\n",
       " 'settlement',\n",
       " 'sequester',\n",
       " 'sidebar',\n",
       " 'statute',\n",
       " 'statute of limitations',\n",
       " 'subpoena',\n",
       " 'subpoena duces tecum',\n",
       " 'summary judgement',\n",
       " 'temporary restraining order',\n",
       " 'testimony',\n",
       " 'transcript',\n",
       " 'uphold',\n",
       " 'U.S. attorney',\n",
       " 'venue',\n",
       " 'verdict',\n",
       " 'voir dire:',\n",
       " 'warrant',\n",
       " 'witness']"
      ]
     },
     "execution_count": 10,
     "metadata": {},
     "output_type": "execute_result"
    }
   ],
   "source": [
    "terms"
   ]
  },
  {
   "cell_type": "code",
   "execution_count": 11,
   "metadata": {},
   "outputs": [],
   "source": [
    "patterns = [nlp.make_doc(text) for text in terms]\n",
    "matcher.add(\"LegalTerms\", None, *patterns)"
   ]
  },
  {
   "cell_type": "code",
   "execution_count": 12,
   "metadata": {},
   "outputs": [],
   "source": [
    "#tterns = list(nlp.tokenizer.pipe(terms))\n",
    "#atcher.add(\"Terms\", None, *patterns)"
   ]
  },
  {
   "cell_type": "code",
   "execution_count": 13,
   "metadata": {},
   "outputs": [],
   "source": [
    "extracted_terms =[]\n",
    "doc = nlp(doc_text)\n",
    "matches = matcher(doc)\n",
    "for match_id, start, end in matches:\n",
    "    span = doc[start:end]\n",
    "    extracted_terms.append(span.text.lower())"
   ]
  },
  {
   "cell_type": "code",
   "execution_count": 16,
   "metadata": {},
   "outputs": [
    {
     "name": "stdout",
     "output_type": "stream",
     "text": [
      "charge to the jury\n",
      "settlement\n",
      "jurisprudence\n",
      "agreement\n",
      "acquittal\n",
      "docket\n",
      "misdemeanor\n",
      "petit jury\n",
      "judge\n",
      "damages\n",
      "mistrial\n",
      "verdict\n",
      "clerk of court\n",
      "information\n",
      "bankruptcy\n",
      "magistrate judges\n",
      "pleadings\n",
      "prosecute\n",
      "lawsuit\n",
      "felony\n",
      "plea\n",
      "impeachment\n",
      "plaintiff\n",
      "bail\n",
      "chambers\n",
      "counsel\n",
      "jurisdiction\n",
      "interrogatories\n",
      "witness\n",
      "injunction\n",
      "chief judge\n",
      "appellate\n",
      "issue\n",
      "instructions\n",
      "conviction\n",
      "deposition\n",
      "federal question\n",
      "defendant\n",
      "record\n",
      "transcript\n",
      "file\n",
      "evidence\n",
      "parties\n",
      "default judgement\n",
      "hearsay\n",
      "jury\n",
      "warrant\n",
      "u.s. attorney\n",
      "precedent\n",
      "reverse\n",
      "default\n",
      "testimony\n",
      "brief\n",
      "indictment\n",
      "answer\n",
      "opinion\n",
      "court\n",
      "sentence\n",
      "habeas corpus\n",
      "complaint\n",
      "court reporter\n",
      "appeal\n",
      "common law\n",
      "discovery\n",
      "contract\n",
      "judgement\n"
     ]
    }
   ],
   "source": [
    "'''for token in set(extracted_terms):\n",
    "    print(token)'''"
   ]
  },
  {
   "cell_type": "code",
   "execution_count": 17,
   "metadata": {},
   "outputs": [],
   "source": [
    "# imports\n",
    "from sklearn.feature_extraction.text import TfidfVectorizer, TfidfTransformer\n",
    "from sklearn.svm import SVC\n",
    "from sklearn.decomposition import PCA"
   ]
  },
  {
   "cell_type": "code",
   "execution_count": 59,
   "metadata": {},
   "outputs": [],
   "source": [
    "# Turning a collection of terms into numerical feature vectors.\n",
    "vectorizer = TfidfVectorizer(max_df=0.5, max_features=100,min_df=2, use_idf=True)      \n",
    "        \n",
    "X_matrix = vectorizer.fit_transform(extracted_terms)  \n",
    "#terms = vectorizer.get_feature_names()"
   ]
  },
  {
   "cell_type": "code",
   "execution_count": 28,
   "metadata": {},
   "outputs": [
    {
     "data": {
      "text/plain": [
       "<1x31 sparse matrix of type '<class 'numpy.float64'>'\n",
       "\twith 0 stored elements in Compressed Sparse Row format>"
      ]
     },
     "execution_count": 28,
     "metadata": {},
     "output_type": "execute_result"
    }
   ],
   "source": [
    "X_matrix[0:1]"
   ]
  },
  {
   "cell_type": "code",
   "execution_count": 29,
   "metadata": {},
   "outputs": [
    {
     "name": "stdout",
     "output_type": "stream",
     "text": [
      "(228, 31)\n"
     ]
    }
   ],
   "source": [
    "print(X_matrix.shape)"
   ]
  },
  {
   "cell_type": "code",
   "execution_count": 30,
   "metadata": {},
   "outputs": [],
   "source": [
    "#from sklearn.metrics.pairwise import cosine_similarity\n",
    "#cosine_similarity(X_matrix[0:1], X_matrix)"
   ]
  },
  {
   "cell_type": "code",
   "execution_count": 31,
   "metadata": {},
   "outputs": [],
   "source": [
    "from sklearn.metrics.pairwise import linear_kernel\n",
    "cosine_similarities = linear_kernel(X_matrix[0:1], X_matrix).flatten()"
   ]
  },
  {
   "cell_type": "code",
   "execution_count": 32,
   "metadata": {},
   "outputs": [
    {
     "data": {
      "text/plain": [
       "array([0., 0., 0., 0., 0., 0., 0., 0., 0., 0., 0., 0., 0., 0., 0., 0., 0.,\n",
       "       0., 0., 0., 0., 0., 0., 0., 0., 0., 0., 0., 0., 0., 0., 0., 0., 0.,\n",
       "       0., 0., 0., 0., 0., 0., 0., 0., 0., 0., 0., 0., 0., 0., 0., 0., 0.,\n",
       "       0., 0., 0., 0., 0., 0., 0., 0., 0., 0., 0., 0., 0., 0., 0., 0., 0.,\n",
       "       0., 0., 0., 0., 0., 0., 0., 0., 0., 0., 0., 0., 0., 0., 0., 0., 0.,\n",
       "       0., 0., 0., 0., 0., 0., 0., 0., 0., 0., 0., 0., 0., 0., 0., 0., 0.,\n",
       "       0., 0., 0., 0., 0., 0., 0., 0., 0., 0., 0., 0., 0., 0., 0., 0., 0.,\n",
       "       0., 0., 0., 0., 0., 0., 0., 0., 0., 0., 0., 0., 0., 0., 0., 0., 0.,\n",
       "       0., 0., 0., 0., 0., 0., 0., 0., 0., 0., 0., 0., 0., 0., 0., 0., 0.,\n",
       "       0., 0., 0., 0., 0., 0., 0., 0., 0., 0., 0., 0., 0., 0., 0., 0., 0.,\n",
       "       0., 0., 0., 0., 0., 0., 0., 0., 0., 0., 0., 0., 0., 0., 0., 0., 0.,\n",
       "       0., 0., 0., 0., 0., 0., 0., 0., 0., 0., 0., 0., 0., 0., 0., 0., 0.,\n",
       "       0., 0., 0., 0., 0., 0., 0., 0., 0., 0., 0., 0., 0., 0., 0., 0., 0.,\n",
       "       0., 0., 0., 0., 0., 0., 0.])"
      ]
     },
     "execution_count": 32,
     "metadata": {},
     "output_type": "execute_result"
    }
   ],
   "source": [
    "cosine_similarities"
   ]
  },
  {
   "cell_type": "code",
   "execution_count": 45,
   "metadata": {},
   "outputs": [
    {
     "name": "stderr",
     "output_type": "stream",
     "text": [
      "/home/shaitender/anaconda3/lib/python3.6/site-packages/sklearn/feature_selection/univariate_selection.py:114: RuntimeWarning: divide by zero encountered in true_divide\n",
      "  f = msb / msw\n",
      "/home/shaitender/anaconda3/lib/python3.6/site-packages/sklearn/model_selection/_split.py:605: Warning: The least populated class in y has only 1 members, which is too few. The minimum number of members in any class cannot be less than n_splits=3.\n",
      "  % (min_groups, self.n_splits)), Warning)\n"
     ]
    },
    {
     "data": {
      "text/plain": [
       "Pipeline(memory=None,\n",
       "     steps=[('select', SelectKBest(k=2, score_func=<function f_classif at 0x7f985578eb70>)), ('classify', LogisticRegressionCV(Cs=10, class_weight=None, cv=None, dual=False,\n",
       "           fit_intercept=True, intercept_scaling=1.0, max_iter=100,\n",
       "           multi_class='ovr', n_jobs=1, penalty='l2', random_state=None,\n",
       "           refit=True, scoring=None, solver='lbfgs', tol=0.0001, verbose=0))])"
      ]
     },
     "execution_count": 45,
     "metadata": {},
     "output_type": "execute_result"
    }
   ],
   "source": [
    "#Build model\n",
    "import sklearn.pipeline\n",
    "import sklearn.decomposition\n",
    "import sklearn.feature_selection\n",
    "\n",
    "model = sklearn.pipeline.Pipeline([\n",
    "    #('pca', sklearn.decomposition.PCA()),\n",
    "    ('select', sklearn.feature_selection.SelectKBest(score_func=sklearn.feature_selection.f_classif,k=5)),\n",
    "    ('classify', sklearn.linear_model.LogisticRegressionCV())\n",
    "])\n",
    "\n",
    "model.fit(X_matrix, extracted_terms)\n",
    "\n",
    "\n"
   ]
  },
  {
   "cell_type": "code",
   "execution_count": 46,
   "metadata": {},
   "outputs": [
    {
     "name": "stdout",
     "output_type": "stream",
     "text": [
      "                    precision    recall  f1-score   support\n",
      "\n",
      "         acquittal       0.00      0.00      0.00         1\n",
      "         agreement       0.00      0.00      0.00         1\n",
      "            answer       0.00      0.00      0.00         5\n",
      "            appeal       0.00      0.00      0.00         3\n",
      "         appellate       0.00      0.00      0.00         8\n",
      "              bail       0.00      0.00      0.00         1\n",
      "        bankruptcy       0.00      0.00      0.00         3\n",
      "             brief       0.00      0.00      0.00         1\n",
      "          chambers       0.00      0.00      0.00         1\n",
      "charge to the jury       0.00      0.00      0.00         1\n",
      "       chief judge       0.00      0.00      0.00         1\n",
      "    clerk of court       0.00      0.00      0.00         2\n",
      "        common law       0.00      0.00      0.00         1\n",
      "         complaint       0.00      0.00      0.00         5\n",
      "          contract       0.00      0.00      0.00         1\n",
      "        conviction       0.00      0.00      0.00         1\n",
      "           counsel       0.00      0.00      0.00         1\n",
      "             court       0.23      1.00      0.37        50\n",
      "    court reporter       0.00      0.00      0.00         1\n",
      "           damages       0.00      0.00      0.00         1\n",
      "           default       0.00      0.00      0.00         1\n",
      " default judgement       0.00      0.00      0.00         1\n",
      "         defendant       0.00      0.00      0.00        14\n",
      "        deposition       0.00      0.00      0.00         1\n",
      "         discovery       0.00      0.00      0.00         3\n",
      "            docket       0.00      0.00      0.00         1\n",
      "          evidence       0.00      0.00      0.00        13\n",
      "  federal question       0.00      0.00      0.00         1\n",
      "            felony       0.00      0.00      0.00         2\n",
      "              file       0.00      0.00      0.00         1\n",
      "     habeas corpus       0.00      0.00      0.00         1\n",
      "           hearsay       0.00      0.00      0.00         2\n",
      "       impeachment       0.00      0.00      0.00         1\n",
      "        indictment       0.00      0.00      0.00         1\n",
      "       information       0.00      0.00      0.00         2\n",
      "        injunction       0.00      0.00      0.00         1\n",
      "      instructions       0.00      0.00      0.00         2\n",
      "   interrogatories       0.00      0.00      0.00         1\n",
      "             issue       0.00      0.00      0.00         2\n",
      "             judge       0.00      0.00      0.00        13\n",
      "         judgement       0.00      0.00      0.00         8\n",
      "      jurisdiction       0.00      0.00      0.00         2\n",
      "     jurisprudence       0.00      0.00      0.00         1\n",
      "              jury       0.00      0.00      0.00        14\n",
      "           lawsuit       0.00      0.00      0.00         7\n",
      " magistrate judges       0.00      0.00      0.00         1\n",
      "       misdemeanor       0.00      0.00      0.00         1\n",
      "          mistrial       0.00      0.00      0.00         1\n",
      "           opinion       0.00      0.00      0.00         3\n",
      "           parties       0.00      0.00      0.00         6\n",
      "        petit jury       0.00      0.00      0.00         2\n",
      "         plaintiff       0.00      0.00      0.00         3\n",
      "              plea       0.00      0.00      0.00         1\n",
      "         pleadings       0.00      0.00      0.00         1\n",
      "         precedent       0.00      0.00      0.00         1\n",
      "         prosecute       0.00      0.00      0.00         1\n",
      "            record       0.00      0.00      0.00         3\n",
      "           reverse       0.00      0.00      0.00         1\n",
      "          sentence       0.00      0.00      0.00         1\n",
      "        settlement       0.00      0.00      0.00         1\n",
      "         testimony       0.00      0.00      0.00         5\n",
      "        transcript       1.00      1.00      1.00         2\n",
      "     u.s. attorney       0.00      0.00      0.00         2\n",
      "           verdict       0.00      0.00      0.00         1\n",
      "           warrant       0.00      0.00      0.00         1\n",
      "           witness       1.00      1.00      1.00         5\n",
      "\n",
      "       avg / total       0.08      0.25      0.11       228\n",
      "\n"
     ]
    },
    {
     "name": "stderr",
     "output_type": "stream",
     "text": [
      "/home/shaitender/anaconda3/lib/python3.6/site-packages/sklearn/metrics/classification.py:1135: UndefinedMetricWarning: Precision and F-score are ill-defined and being set to 0.0 in labels with no predicted samples.\n",
      "  'precision', 'predicted', average, warn_for)\n"
     ]
    }
   ],
   "source": [
    "# Assess data\n",
    "predicted_log = model.predict(X_matrix)\n",
    "predicted_log_prob = model.predict_proba(X_matrix)\n",
    "print(sklearn.metrics.classification_report(extracted_terms, predicted_log))"
   ]
  },
  {
   "cell_type": "code",
   "execution_count": 48,
   "metadata": {},
   "outputs": [
    {
     "data": {
      "text/plain": [
       "['terms_model.pickle']"
      ]
     },
     "execution_count": 48,
     "metadata": {},
     "output_type": "execute_result"
    }
   ],
   "source": [
    "# pickle model\n",
    "from sklearn.externals import joblib\n",
    "joblib.dump(model, \"terms_model.pickle\")"
   ]
  },
  {
   "cell_type": "code",
   "execution_count": null,
   "metadata": {},
   "outputs": [],
   "source": [
    "model"
   ]
  }
 ],
 "metadata": {
  "kernelspec": {
   "display_name": "Python 3",
   "language": "python",
   "name": "python3"
  },
  "language_info": {
   "codemirror_mode": {
    "name": "ipython",
    "version": 3
   },
   "file_extension": ".py",
   "mimetype": "text/x-python",
   "name": "python",
   "nbconvert_exporter": "python",
   "pygments_lexer": "ipython3",
   "version": "3.6.5"
  }
 },
 "nbformat": 4,
 "nbformat_minor": 2
}
