{
  "nbformat": 4,
  "nbformat_minor": 0,
  "metadata": {
    "colab": {
      "name": "FastText-Effective-Date.ipynb",
      "version": "0.3.2",
      "provenance": [],
      "collapsed_sections": [],
      "include_colab_link": true
    },
    "kernelspec": {
      "name": "python3",
      "display_name": "Python 3"
    }
  },
  "cells": [
    {
      "cell_type": "markdown",
      "metadata": {
        "id": "view-in-github",
        "colab_type": "text"
      },
      "source": [
        "<a href=\"https://colab.research.google.com/github/Shaitender/TextExtraction/blob/master/FastText_Effective_Date.ipynb\" target=\"_parent\"><img src=\"https://colab.research.google.com/assets/colab-badge.svg\" alt=\"Open In Colab\"/></a>"
      ]
    },
    {
      "cell_type": "code",
      "metadata": {
        "id": "4dbujrwIIacD",
        "colab_type": "code",
        "outputId": "6fa408fb-a1cc-474d-da92-ff94610c1b2a",
        "colab": {
          "base_uri": "https://localhost:8080/",
          "height": 258
        }
      },
      "source": [
        "!pip install fasttext"
      ],
      "execution_count": 0,
      "outputs": [
        {
          "output_type": "stream",
          "text": [
            "Collecting fasttext\n",
            "\u001b[?25l  Downloading https://files.pythonhosted.org/packages/10/61/2e01f1397ec533756c1d893c22d9d5ed3fce3a6e4af1976e0d86bb13ea97/fasttext-0.9.1.tar.gz (57kB)\n",
            "\r\u001b[K     |█████▊                          | 10kB 14.6MB/s eta 0:00:01\r\u001b[K     |███████████▍                    | 20kB 2.2MB/s eta 0:00:01\r\u001b[K     |█████████████████               | 30kB 3.3MB/s eta 0:00:01\r\u001b[K     |██████████████████████▊         | 40kB 2.2MB/s eta 0:00:01\r\u001b[K     |████████████████████████████▍   | 51kB 2.7MB/s eta 0:00:01\r\u001b[K     |████████████████████████████████| 61kB 3.0MB/s \n",
            "\u001b[?25hRequirement already satisfied: pybind11>=2.2 in /usr/local/lib/python3.6/dist-packages (from fasttext) (2.3.0)\n",
            "Requirement already satisfied: setuptools>=0.7.0 in /usr/local/lib/python3.6/dist-packages (from fasttext) (41.2.0)\n",
            "Requirement already satisfied: numpy in /usr/local/lib/python3.6/dist-packages (from fasttext) (1.16.5)\n",
            "Building wheels for collected packages: fasttext\n",
            "  Building wheel for fasttext (setup.py) ... \u001b[?25l\u001b[?25hdone\n",
            "  Created wheel for fasttext: filename=fasttext-0.9.1-cp36-cp36m-linux_x86_64.whl size=2379702 sha256=37017c1cb1aead1c2fecdcca39e1c0376f09dde56430f0ae25e7cd52517e734e\n",
            "  Stored in directory: /root/.cache/pip/wheels/9f/f0/04/caa82c912aee89ce76358ff954f3f0729b7577c8ff23a292e3\n",
            "Successfully built fasttext\n",
            "Installing collected packages: fasttext\n",
            "Successfully installed fasttext-0.9.1\n"
          ],
          "name": "stdout"
        }
      ]
    },
    {
      "cell_type": "code",
      "metadata": {
        "id": "ur-4eEFiL6kM",
        "colab_type": "code",
        "outputId": "3486062e-24e4-445c-8ac0-0deb43f45e5f",
        "colab": {
          "base_uri": "https://localhost:8080/",
          "height": 204
        }
      },
      "source": [
        "import pandas as pd\n",
        "datesDf = pd.read_excel('/content/Effective Date Option Dataset.xlsx')\n",
        "datesDf.head()"
      ],
      "execution_count": 0,
      "outputs": [
        {
          "output_type": "execute_result",
          "data": {
            "text/html": [
              "<div>\n",
              "<style scoped>\n",
              "    .dataframe tbody tr th:only-of-type {\n",
              "        vertical-align: middle;\n",
              "    }\n",
              "\n",
              "    .dataframe tbody tr th {\n",
              "        vertical-align: top;\n",
              "    }\n",
              "\n",
              "    .dataframe thead th {\n",
              "        text-align: right;\n",
              "    }\n",
              "</style>\n",
              "<table border=\"1\" class=\"dataframe\">\n",
              "  <thead>\n",
              "    <tr style=\"text-align: right;\">\n",
              "      <th></th>\n",
              "      <th>Effective Date Options</th>\n",
              "      <th>String</th>\n",
              "    </tr>\n",
              "  </thead>\n",
              "  <tbody>\n",
              "    <tr>\n",
              "      <th>0</th>\n",
              "      <td>Later of the two signatures</td>\n",
              "      <td>the â€œagreementâ€) is entered into as of the...</td>\n",
              "    </tr>\n",
              "    <tr>\n",
              "      <th>1</th>\n",
              "      <td>Specific Date</td>\n",
              "      <td>llc contractor: globallogic inc. -docusigned b...</td>\n",
              "    </tr>\n",
              "    <tr>\n",
              "      <th>2</th>\n",
              "      <td>Specific Date</td>\n",
              "      <td>your acceptance of the above by signing and r...</td>\n",
              "    </tr>\n",
              "    <tr>\n",
              "      <th>3</th>\n",
              "      <td>NO MATCH</td>\n",
              "      <td>your acceptance of the above by signing and r...</td>\n",
              "    </tr>\n",
              "    <tr>\n",
              "      <th>4</th>\n",
              "      <td>Specific Date</td>\n",
              "      <td>your acceptance of the above by signing and r...</td>\n",
              "    </tr>\n",
              "  </tbody>\n",
              "</table>\n",
              "</div>"
            ],
            "text/plain": [
              "        Effective Date Options                                             String\n",
              "0  Later of the two signatures  the â€œagreementâ€) is entered into as of the...\n",
              "1                Specific Date  llc contractor: globallogic inc. -docusigned b...\n",
              "2                Specific Date   your acceptance of the above by signing and r...\n",
              "3                     NO MATCH   your acceptance of the above by signing and r...\n",
              "4                Specific Date   your acceptance of the above by signing and r..."
            ]
          },
          "metadata": {
            "tags": []
          },
          "execution_count": 2
        }
      ]
    },
    {
      "cell_type": "code",
      "metadata": {
        "id": "HN-nm2AMNzB2",
        "colab_type": "code",
        "outputId": "8778aace-836a-424f-f161-2fb4f3fb59a0",
        "colab": {
          "base_uri": "https://localhost:8080/",
          "height": 204
        }
      },
      "source": [
        "datesDf['Effective Date Options'].value_counts()"
      ],
      "execution_count": 0,
      "outputs": [
        {
          "output_type": "execute_result",
          "data": {
            "text/plain": [
              "Later of the two signatures                              3591\n",
              "First day of the month in which the Last Party sign      3168\n",
              "First day of following month in which Last Party Sign    2898\n",
              "Specific Date                                            2739\n",
              "Partner/Customer Sign Date                               2376\n",
              "Google Sign Date                                         2360\n",
              "NO MATCH                                                 2290\n",
              "First day of the month in which Google Sign              2052\n",
              "First day of following month in which Google Sign        2016\n",
              "Partner/Customer Sign date                                108\n",
              "Name: Effective Date Options, dtype: int64"
            ]
          },
          "metadata": {
            "tags": []
          },
          "execution_count": 9
        }
      ]
    },
    {
      "cell_type": "code",
      "metadata": {
        "id": "aXMDdpAlN-4Z",
        "colab_type": "code",
        "outputId": "cb366023-8522-4bf5-f03f-45bfa3e8d075",
        "colab": {
          "base_uri": "https://localhost:8080/",
          "height": 1000
        }
      },
      "source": [
        "#drop NoMatch rows\n",
        "datesDf.drop(datesDf[datesDf['Effective Date Options'].apply(lambda x: x.startswith('NO MATCH'))].index, inplace=True)\n",
        "datesDf.drop(datesDf[datesDf['String'].apply(lambda x: x.startswith('NO MATCH'))].index, inplace=True)\n",
        "\n",
        "#create options string as per fasttext input\n",
        "datesDf['Effective Date Options']= ['__label__' + options.replace(' ','_').lower() for options in datesDf['Effective Date Options']]\n",
        "\n",
        "#drop dublicates\n",
        "datesDf.drop_duplicates(subset=['Effective Date Options', 'String'], keep=False)"
      ],
      "execution_count": 0,
      "outputs": [
        {
          "output_type": "execute_result",
          "data": {
            "text/html": [
              "<div>\n",
              "<style scoped>\n",
              "    .dataframe tbody tr th:only-of-type {\n",
              "        vertical-align: middle;\n",
              "    }\n",
              "\n",
              "    .dataframe tbody tr th {\n",
              "        vertical-align: top;\n",
              "    }\n",
              "\n",
              "    .dataframe thead th {\n",
              "        text-align: right;\n",
              "    }\n",
              "</style>\n",
              "<table border=\"1\" class=\"dataframe\">\n",
              "  <thead>\n",
              "    <tr style=\"text-align: right;\">\n",
              "      <th></th>\n",
              "      <th>Effective Date Options</th>\n",
              "      <th>String</th>\n",
              "    </tr>\n",
              "  </thead>\n",
              "  <tbody>\n",
              "    <tr>\n",
              "      <th>0</th>\n",
              "      <td>__label__later_of_the_two_signatures</td>\n",
              "      <td>the â€œagreementâ€) is entered into as of the...</td>\n",
              "    </tr>\n",
              "    <tr>\n",
              "      <th>1</th>\n",
              "      <td>__label__specific_date</td>\n",
              "      <td>llc contractor: globallogic inc. -docusigned b...</td>\n",
              "    </tr>\n",
              "    <tr>\n",
              "      <th>2</th>\n",
              "      <td>__label__specific_date</td>\n",
              "      <td>your acceptance of the above by signing and r...</td>\n",
              "    </tr>\n",
              "    <tr>\n",
              "      <th>4</th>\n",
              "      <td>__label__specific_date</td>\n",
              "      <td>your acceptance of the above by signing and r...</td>\n",
              "    </tr>\n",
              "    <tr>\n",
              "      <th>5</th>\n",
              "      <td>__label__later_of_the_two_signatures</td>\n",
              "      <td>of the above by signing and returning the enc...</td>\n",
              "    </tr>\n",
              "    <tr>\n",
              "      <th>6</th>\n",
              "      <td>__label__specific_date</td>\n",
              "      <td>your acceptance of the above by signing and r...</td>\n",
              "    </tr>\n",
              "    <tr>\n",
              "      <th>7</th>\n",
              "      <td>__label__later_of_the_two_signatures</td>\n",
              "      <td>your acceptance of the above by signing and r...</td>\n",
              "    </tr>\n",
              "    <tr>\n",
              "      <th>8</th>\n",
              "      <td>__label__specific_date</td>\n",
              "      <td>docusign envelope id: 588c2cfa-2cb0-45da-ad22-...</td>\n",
              "    </tr>\n",
              "    <tr>\n",
              "      <th>9</th>\n",
              "      <td>__label__specific_date</td>\n",
              "      <td>ala.kc@tcs.com google project manager: erbil y...</td>\n",
              "    </tr>\n",
              "    <tr>\n",
              "      <th>10</th>\n",
              "      <td>__label__specific_date</td>\n",
              "      <td>bala.kc@tcs.com google project manager: minha...</td>\n",
              "    </tr>\n",
              "    <tr>\n",
              "      <th>11</th>\n",
              "      <td>__label__specific_date</td>\n",
              "      <td>bala.kc@tcs.com google project manager: sage ...</td>\n",
              "    </tr>\n",
              "    <tr>\n",
              "      <th>12</th>\n",
              "      <td>__label__specific_date</td>\n",
              "      <td>a.kc@tcs.com google project manager: aram melk...</td>\n",
              "    </tr>\n",
              "    <tr>\n",
              "      <th>13</th>\n",
              "      <td>__label__specific_date</td>\n",
              "      <td>.kc@tcs.com google project manager: arun pilla...</td>\n",
              "    </tr>\n",
              "    <tr>\n",
              "      <th>14</th>\n",
              "      <td>__label__specific_date</td>\n",
              "      <td>project manager: erin mindell cannon project ...</td>\n",
              "    </tr>\n",
              "    <tr>\n",
              "      <th>15</th>\n",
              "      <td>__label__specific_date</td>\n",
              "      <td>053 bala.kc@tcs.com google project manager: ju...</td>\n",
              "    </tr>\n",
              "    <tr>\n",
              "      <th>16</th>\n",
              "      <td>__label__specific_date</td>\n",
              "      <td>la.kc@tcs.com google project manager: amir rah...</td>\n",
              "    </tr>\n",
              "    <tr>\n",
              "      <th>17</th>\n",
              "      <td>__label__specific_date</td>\n",
              "      <td>fosys. com google project manager: ram venkate...</td>\n",
              "    </tr>\n",
              "    <tr>\n",
              "      <th>18</th>\n",
              "      <td>__label__specific_date</td>\n",
              "      <td>yya r@ infosys. com google project manager: fi...</td>\n",
              "    </tr>\n",
              "    <tr>\n",
              "      <th>19</th>\n",
              "      <td>__label__specific_date</td>\n",
              "      <td>endix a exhibit 9 template form of implementat...</td>\n",
              "    </tr>\n",
              "    <tr>\n",
              "      <th>20</th>\n",
              "      <td>__label__later_of_the_two_signatures</td>\n",
              "      <td>henker.com tax i.d. number: 135619239 and is e...</td>\n",
              "    </tr>\n",
              "    <tr>\n",
              "      <th>21</th>\n",
              "      <td>__label__later_of_the_two_signatures</td>\n",
              "      <td>henker.com tax i.d. number: 135619239 and is e...</td>\n",
              "    </tr>\n",
              "    <tr>\n",
              "      <th>22</th>\n",
              "      <td>__label__later_of_the_two_signatures</td>\n",
              "      <td>lephone: +1 212 565 7608 project manager email...</td>\n",
              "    </tr>\n",
              "    <tr>\n",
              "      <th>23</th>\n",
              "      <td>__label__specific_date</td>\n",
              "      <td>n valid until [tannat partyâ€™s name] amends o...</td>\n",
              "    </tr>\n",
              "    <tr>\n",
              "      <th>24</th>\n",
              "      <td>__label__specific_date</td>\n",
              "      <td>er telephone: project manager email: loulou qu...</td>\n",
              "    </tr>\n",
              "    <tr>\n",
              "      <th>25</th>\n",
              "      <td>__label__specific_date</td>\n",
              "      <td>ipal place of business is at plot 38, sector 1...</td>\n",
              "    </tr>\n",
              "    <tr>\n",
              "      <th>26</th>\n",
              "      <td>__label__later_of_the_two_signatures</td>\n",
              "      <td>ne: 917-683-8948 project manager email: 3. â€œ...</td>\n",
              "    </tr>\n",
              "    <tr>\n",
              "      <th>28</th>\n",
              "      <td>__label__later_of_the_two_signatures</td>\n",
              "      <td>telephone: project manager email: 3. â€œsow te...</td>\n",
              "    </tr>\n",
              "    <tr>\n",
              "      <th>29</th>\n",
              "      <td>__label__specific_date</td>\n",
              "      <td>payroll) service agreement (â€œservice agreeme...</td>\n",
              "    </tr>\n",
              "    <tr>\n",
              "      <th>32</th>\n",
              "      <td>__label__specific_date</td>\n",
              "      <td>ated september 4, 2014 (â€œsaâ€) (so and sa c...</td>\n",
              "    </tr>\n",
              "    <tr>\n",
              "      <th>33</th>\n",
              "      <td>__label__specific_date</td>\n",
              "      <td>gammon@yougov.com project manager name: katie ...</td>\n",
              "    </tr>\n",
              "    <tr>\n",
              "      <th>...</th>\n",
              "      <td>...</td>\n",
              "      <td>...</td>\n",
              "    </tr>\n",
              "    <tr>\n",
              "      <th>9230</th>\n",
              "      <td>__label__specific_date</td>\n",
              "      <td>1fd12-dce0-4506-822e-b895e6620c1b contract id:...</td>\n",
              "    </tr>\n",
              "    <tr>\n",
              "      <th>9231</th>\n",
              "      <td>__label__later_of_the_two_signatures</td>\n",
              "      <td>s required, po# is:___________________ ^ocusig...</td>\n",
              "    </tr>\n",
              "    <tr>\n",
              "      <th>9233</th>\n",
              "      <td>__label__specific_date</td>\n",
              "      <td>background information google global standard ...</td>\n",
              "    </tr>\n",
              "    <tr>\n",
              "      <th>9234</th>\n",
              "      <td>__label__specific_date</td>\n",
              "      <td>does not have the legal authority to bind, it...</td>\n",
              "    </tr>\n",
              "    <tr>\n",
              "      <th>9235</th>\n",
              "      <td>__label__specific_date</td>\n",
              "      <td>iew the agreement in its entirety and if you a...</td>\n",
              "    </tr>\n",
              "    <tr>\n",
              "      <th>9250</th>\n",
              "      <td>__label__later_of_the_two_signatures</td>\n",
              "      <td>ial ventures australia 2. supplier address: le...</td>\n",
              "    </tr>\n",
              "    <tr>\n",
              "      <th>9254</th>\n",
              "      <td>__label__later_of_the_two_signatures</td>\n",
              "      <td>ierâ€): the oval office bvba 2. supplier addr...</td>\n",
              "    </tr>\n",
              "    <tr>\n",
              "      <th>9256</th>\n",
              "      <td>__label__specific_date</td>\n",
              "      <td>which govern your participation in the google...</td>\n",
              "    </tr>\n",
              "    <tr>\n",
              "      <th>9257</th>\n",
              "      <td>__label__specific_date</td>\n",
              "      <td>which govern your participation in the google...</td>\n",
              "    </tr>\n",
              "    <tr>\n",
              "      <th>9263</th>\n",
              "      <td>__label__specific_date</td>\n",
              "      <td>background information authorised retailer/res...</td>\n",
              "    </tr>\n",
              "    <tr>\n",
              "      <th>9264</th>\n",
              "      <td>__label__later_of_the_two_signatures</td>\n",
              "      <td>applicable:. customer if po is required, po# ...</td>\n",
              "    </tr>\n",
              "    <tr>\n",
              "      <th>9274</th>\n",
              "      <td>__label__specific_date</td>\n",
              "      <td>s sow. payment period: 30 days from googleâ€™s...</td>\n",
              "    </tr>\n",
              "    <tr>\n",
              "      <th>9275</th>\n",
              "      <td>__label__specific_date</td>\n",
              "      <td>s sow. payment period: 30 days from googleâ€™s...</td>\n",
              "    </tr>\n",
              "    <tr>\n",
              "      <th>9276</th>\n",
              "      <td>__label__specific_date</td>\n",
              "      <td>s sow. payment period: 30 days from googleâ€™s...</td>\n",
              "    </tr>\n",
              "    <tr>\n",
              "      <th>9277</th>\n",
              "      <td>__label__specific_date</td>\n",
              "      <td>s sow. payment period: 30 days from googleâ€™s...</td>\n",
              "    </tr>\n",
              "    <tr>\n",
              "      <th>9278</th>\n",
              "      <td>__label__specific_date</td>\n",
              "      <td>s sow. payment period: 30 days from googleâ€™s...</td>\n",
              "    </tr>\n",
              "    <tr>\n",
              "      <th>9280</th>\n",
              "      <td>__label__specific_date</td>\n",
              "      <td>s sow. payment period: 30 days from googleâ€™s...</td>\n",
              "    </tr>\n",
              "    <tr>\n",
              "      <th>9287</th>\n",
              "      <td>__label__specific_date</td>\n",
              "      <td>, dublin 4, ireland attn: legal department ema...</td>\n",
              "    </tr>\n",
              "    <tr>\n",
              "      <th>9290</th>\n",
              "      <td>__label__later_of_the_two_signatures</td>\n",
              "      <td>com tax i.d. number: 9501009o and is effective...</td>\n",
              "    </tr>\n",
              "    <tr>\n",
              "      <th>9291</th>\n",
              "      <td>__label__later_of_the_two_signatures</td>\n",
              "      <td>40c5-abeb-5b6565233584 google inbound services...</td>\n",
              "    </tr>\n",
              "    <tr>\n",
              "      <th>9293</th>\n",
              "      <td>__label__specific_date</td>\n",
              "      <td>agree to enter into a new sow (the â€œsow\") a...</td>\n",
              "    </tr>\n",
              "    <tr>\n",
              "      <th>9294</th>\n",
              "      <td>__label__specific_date</td>\n",
              "      <td>t manager email / e-mail gerente do projeto: t...</td>\n",
              "    </tr>\n",
              "    <tr>\n",
              "      <th>9295</th>\n",
              "      <td>__label__later_of_the_two_signatures</td>\n",
              "      <td>go, ca 92121 usa google llc 1600 amphitheatre ...</td>\n",
              "    </tr>\n",
              "    <tr>\n",
              "      <th>9297</th>\n",
              "      <td>__label__specific_date</td>\n",
              "      <td>, 2012, as amended (\"msaâ€). (sow and msa col...</td>\n",
              "    </tr>\n",
              "    <tr>\n",
              "      <th>9298</th>\n",
              "      <td>__label__specific_date</td>\n",
              "      <td>ffices at 851 e cerritos avenue, anaheim, cali...</td>\n",
              "    </tr>\n",
              "    <tr>\n",
              "      <th>9299</th>\n",
              "      <td>__label__specific_date</td>\n",
              "      <td>ger email: project manager telephone: 3. proac...</td>\n",
              "    </tr>\n",
              "    <tr>\n",
              "      <th>9300</th>\n",
              "      <td>__label__specific_date</td>\n",
              "      <td>ager email: project manager telephone: 3. proa...</td>\n",
              "    </tr>\n",
              "    <tr>\n",
              "      <th>9303</th>\n",
              "      <td>__label__specific_date</td>\n",
              "      <td>er email: project manager telephone: 3. proact...</td>\n",
              "    </tr>\n",
              "    <tr>\n",
              "      <th>9304</th>\n",
              "      <td>__label__later_of_the_two_signatures</td>\n",
              "      <td>&amp;timtztiitolz, ^lemlzesttfi 4.4 t7x&gt;r?ji&lt;p&amp;^fg...</td>\n",
              "    </tr>\n",
              "    <tr>\n",
              "      <th>9305</th>\n",
              "      <td>__label__later_of_the_two_signatures</td>\n",
              "      <td>ment (as amended to date, the â€œndaâ€), effe...</td>\n",
              "    </tr>\n",
              "  </tbody>\n",
              "</table>\n",
              "<p>4797 rows × 2 columns</p>\n",
              "</div>"
            ],
            "text/plain": [
              "                    Effective Date Options                                             String\n",
              "0     __label__later_of_the_two_signatures  the â€œagreementâ€) is entered into as of the...\n",
              "1                   __label__specific_date  llc contractor: globallogic inc. -docusigned b...\n",
              "2                   __label__specific_date   your acceptance of the above by signing and r...\n",
              "4                   __label__specific_date   your acceptance of the above by signing and r...\n",
              "5     __label__later_of_the_two_signatures   of the above by signing and returning the enc...\n",
              "6                   __label__specific_date   your acceptance of the above by signing and r...\n",
              "7     __label__later_of_the_two_signatures   your acceptance of the above by signing and r...\n",
              "8                   __label__specific_date  docusign envelope id: 588c2cfa-2cb0-45da-ad22-...\n",
              "9                   __label__specific_date  ala.kc@tcs.com google project manager: erbil y...\n",
              "10                  __label__specific_date   bala.kc@tcs.com google project manager: minha...\n",
              "11                  __label__specific_date   bala.kc@tcs.com google project manager: sage ...\n",
              "12                  __label__specific_date  a.kc@tcs.com google project manager: aram melk...\n",
              "13                  __label__specific_date  .kc@tcs.com google project manager: arun pilla...\n",
              "14                  __label__specific_date   project manager: erin mindell cannon project ...\n",
              "15                  __label__specific_date  053 bala.kc@tcs.com google project manager: ju...\n",
              "16                  __label__specific_date  la.kc@tcs.com google project manager: amir rah...\n",
              "17                  __label__specific_date  fosys. com google project manager: ram venkate...\n",
              "18                  __label__specific_date  yya r@ infosys. com google project manager: fi...\n",
              "19                  __label__specific_date  endix a exhibit 9 template form of implementat...\n",
              "20    __label__later_of_the_two_signatures  henker.com tax i.d. number: 135619239 and is e...\n",
              "21    __label__later_of_the_two_signatures  henker.com tax i.d. number: 135619239 and is e...\n",
              "22    __label__later_of_the_two_signatures  lephone: +1 212 565 7608 project manager email...\n",
              "23                  __label__specific_date  n valid until [tannat partyâ€™s name] amends o...\n",
              "24                  __label__specific_date  er telephone: project manager email: loulou qu...\n",
              "25                  __label__specific_date  ipal place of business is at plot 38, sector 1...\n",
              "26    __label__later_of_the_two_signatures  ne: 917-683-8948 project manager email: 3. â€œ...\n",
              "28    __label__later_of_the_two_signatures  telephone: project manager email: 3. â€œsow te...\n",
              "29                  __label__specific_date  payroll) service agreement (â€œservice agreeme...\n",
              "32                  __label__specific_date  ated september 4, 2014 (â€œsaâ€) (so and sa c...\n",
              "33                  __label__specific_date  gammon@yougov.com project manager name: katie ...\n",
              "...                                    ...                                                ...\n",
              "9230                __label__specific_date  1fd12-dce0-4506-822e-b895e6620c1b contract id:...\n",
              "9231  __label__later_of_the_two_signatures  s required, po# is:___________________ ^ocusig...\n",
              "9233                __label__specific_date  background information google global standard ...\n",
              "9234                __label__specific_date   does not have the legal authority to bind, it...\n",
              "9235                __label__specific_date  iew the agreement in its entirety and if you a...\n",
              "9250  __label__later_of_the_two_signatures  ial ventures australia 2. supplier address: le...\n",
              "9254  __label__later_of_the_two_signatures  ierâ€): the oval office bvba 2. supplier addr...\n",
              "9256                __label__specific_date   which govern your participation in the google...\n",
              "9257                __label__specific_date   which govern your participation in the google...\n",
              "9263                __label__specific_date  background information authorised retailer/res...\n",
              "9264  __label__later_of_the_two_signatures   applicable:. customer if po is required, po# ...\n",
              "9274                __label__specific_date  s sow. payment period: 30 days from googleâ€™s...\n",
              "9275                __label__specific_date  s sow. payment period: 30 days from googleâ€™s...\n",
              "9276                __label__specific_date  s sow. payment period: 30 days from googleâ€™s...\n",
              "9277                __label__specific_date  s sow. payment period: 30 days from googleâ€™s...\n",
              "9278                __label__specific_date  s sow. payment period: 30 days from googleâ€™s...\n",
              "9280                __label__specific_date  s sow. payment period: 30 days from googleâ€™s...\n",
              "9287                __label__specific_date  , dublin 4, ireland attn: legal department ema...\n",
              "9290  __label__later_of_the_two_signatures  com tax i.d. number: 9501009o and is effective...\n",
              "9291  __label__later_of_the_two_signatures  40c5-abeb-5b6565233584 google inbound services...\n",
              "9293                __label__specific_date   agree to enter into a new sow (the â€œsow\") a...\n",
              "9294                __label__specific_date  t manager email / e-mail gerente do projeto: t...\n",
              "9295  __label__later_of_the_two_signatures  go, ca 92121 usa google llc 1600 amphitheatre ...\n",
              "9297                __label__specific_date  , 2012, as amended (\"msaâ€). (sow and msa col...\n",
              "9298                __label__specific_date  ffices at 851 e cerritos avenue, anaheim, cali...\n",
              "9299                __label__specific_date  ger email: project manager telephone: 3. proac...\n",
              "9300                __label__specific_date  ager email: project manager telephone: 3. proa...\n",
              "9303                __label__specific_date  er email: project manager telephone: 3. proact...\n",
              "9304  __label__later_of_the_two_signatures  &timtztiitolz, ^lemlzesttfi 4.4 t7x>r?ji<p&^fg...\n",
              "9305  __label__later_of_the_two_signatures  ment (as amended to date, the â€œndaâ€), effe...\n",
              "\n",
              "[4797 rows x 2 columns]"
            ]
          },
          "metadata": {
            "tags": []
          },
          "execution_count": 10
        }
      ]
    },
    {
      "cell_type": "code",
      "metadata": {
        "id": "bg0Jp3lLO9jx",
        "colab_type": "code",
        "outputId": "cad5e5a1-9826-417d-8c72-f537df856483",
        "colab": {
          "base_uri": "https://localhost:8080/",
          "height": 170
        }
      },
      "source": [
        "datesDf['Effective Date Options'].value_counts()"
      ],
      "execution_count": 0,
      "outputs": [
        {
          "output_type": "execute_result",
          "data": {
            "text/plain": [
              "__label__later_of_the_two_signatures                              3591\n",
              "__label__first_day_of_the_month_in_which_the_last_party_sign      3168\n",
              "__label__first_day_of_following_month_in_which_last_party_sign    2898\n",
              "__label__specific_date                                            2739\n",
              "__label__partner/customer_sign_date                               2484\n",
              "__label__google_sign_date                                         2360\n",
              "__label__first_day_of_the_month_in_which_google_sign              2052\n",
              "__label__first_day_of_following_month_in_which_google_sign        2016\n",
              "Name: Effective Date Options, dtype: int64"
            ]
          },
          "metadata": {
            "tags": []
          },
          "execution_count": 11
        }
      ]
    },
    {
      "cell_type": "code",
      "metadata": {
        "id": "muQmPS88Pbzq",
        "colab_type": "code",
        "outputId": "fbdb4462-399a-497a-bc33-c1092c9ea06f",
        "colab": {
          "base_uri": "https://localhost:8080/",
          "height": 740
        }
      },
      "source": [
        "%matplotlib inline\n",
        "import seaborn as sns\n",
        "import matplotlib.pyplot as plt\n",
        "plt.figure(figsize=(14,6))\n",
        "sns.countplot(x=datesDf['Effective Date Options'], color='blue')\n",
        "plt.title('Effective Date', fontsize=16)\n",
        "plt.ylabel('Counts', fontsize=16)\n",
        "plt.xlabel('Date Options', fontsize=20)\n",
        "plt.xticks(rotation='vertical')"
      ],
      "execution_count": 0,
      "outputs": [
        {
          "output_type": "execute_result",
          "data": {
            "text/plain": [
              "(array([0, 1, 2, 3, 4, 5, 6, 7]), <a list of 8 Text xticklabel objects>)"
            ]
          },
          "metadata": {
            "tags": []
          },
          "execution_count": 12
        },
        {
          "output_type": "display_data",
          "data": {
            "image/png": "[encoded data removed]",
            "text/plain": [
              "<Figure size 1008x432 with 1 Axes>"
            ]
          },
          "metadata": {
            "tags": []
          }
        }
      ]
    },
    {
      "cell_type": "code",
      "metadata": {
        "id": "EXm4dPfwgPWP",
        "colab_type": "code",
        "outputId": "a0cdba2e-10b9-4011-df18-176fc98148c9",
        "colab": {
          "base_uri": "https://localhost:8080/",
          "height": 51
        }
      },
      "source": [
        "!pip install nltk"
      ],
      "execution_count": 0,
      "outputs": [
        {
          "output_type": "stream",
          "text": [
            "Requirement already satisfied: nltk in /usr/local/lib/python3.6/dist-packages (3.2.5)\n",
            "Requirement already satisfied: six in /usr/local/lib/python3.6/dist-packages (from nltk) (1.12.0)\n"
          ],
          "name": "stdout"
        }
      ]
    },
    {
      "cell_type": "code",
      "metadata": {
        "id": "K4JKz21OlX4v",
        "colab_type": "code",
        "colab": {}
      },
      "source": [
        "import nltk\n",
        "#nltk.download('stopwords')\n",
        "#nltk.download('punkt')\n",
        "from nltk.corpus import stopwords\n",
        "\n",
        "def preProcessing(text):\n",
        "    text = text.lower().replace('[^\\w\\s]','')\n",
        "    tokens = [word for sent in nltk.sent_tokenize(text) for word in nltk.word_tokenize(sent)]\n",
        "    # remove stopwords\n",
        "    stop = stopwords.words('english')\n",
        "    tokens = [token for token in tokens if token not in stop]\n",
        "    preprocessed_text= ' '.join(tokens)\n",
        "    return preprocessed_text"
      ],
      "execution_count": 0,
      "outputs": []
    },
    {
      "cell_type": "code",
      "metadata": {
        "id": "RQ2k0K-m4cyB",
        "colab_type": "code",
        "colab": {}
      },
      "source": [
        "#remove stop words\n",
        "datesDf['String'] = datesDf['String'].apply(preProcessing)\n",
        "\n",
        "#suffle data \n",
        "datesDf = datesDf.sample(frac=1).reset_index(drop=True)"
      ],
      "execution_count": 0,
      "outputs": []
    },
    {
      "cell_type": "code",
      "metadata": {
        "id": "R7-Bz8bsA4dG",
        "colab_type": "code",
        "colab": {}
      },
      "source": [
        "#save procressed data set\n",
        "datesDf.to_csv('effectivedate_procressed_set.csv', index=False)"
      ],
      "execution_count": 0,
      "outputs": []
    },
    {
      "cell_type": "code",
      "metadata": {
        "id": "yQR4XxmYCOy-",
        "colab_type": "code",
        "outputId": "0960f411-11d8-4ddb-b770-7a387be80f91",
        "colab": {
          "base_uri": "https://localhost:8080/",
          "height": 374
        }
      },
      "source": [
        "#split data \n",
        "datesDf_copy = datesDf.copy()\n",
        "train_set = datesDf_copy.sample(frac=0.80, random_state=0)\n",
        "test_set = datesDf_copy.drop(train_set.index)\n",
        "\n",
        "#check info\n",
        "datesDf.info()\n",
        "train_set.info()\n",
        "test_set.info()"
      ],
      "execution_count": 0,
      "outputs": [
        {
          "output_type": "stream",
          "text": [
            "<class 'pandas.core.frame.DataFrame'>\n",
            "RangeIndex: 21308 entries, 0 to 21307\n",
            "Data columns (total 2 columns):\n",
            "Effective Date Options    21308 non-null object\n",
            "String                    21308 non-null object\n",
            "dtypes: object(2)\n",
            "memory usage: 333.0+ KB\n",
            "<class 'pandas.core.frame.DataFrame'>\n",
            "Int64Index: 17046 entries, 11269 to 19014\n",
            "Data columns (total 2 columns):\n",
            "Effective Date Options    17046 non-null object\n",
            "String                    17046 non-null object\n",
            "dtypes: object(2)\n",
            "memory usage: 399.5+ KB\n",
            "<class 'pandas.core.frame.DataFrame'>\n",
            "Int64Index: 4262 entries, 10 to 21301\n",
            "Data columns (total 2 columns):\n",
            "Effective Date Options    4262 non-null object\n",
            "String                    4262 non-null object\n",
            "dtypes: object(2)\n",
            "memory usage: 99.9+ KB\n"
          ],
          "name": "stdout"
        }
      ]
    },
    {
      "cell_type": "code",
      "metadata": {
        "id": "9f7ZDtswUIWX",
        "colab_type": "code",
        "colab": {}
      },
      "source": [
        "import fasttext as ft\n",
        "classifier = ft.train_supervised(input='/content/effectiveDate.train', lr=0.8,epoch=10)\n",
        "\n",
        "classifier.save_model(\"model_effectiveDate.bin\")"
      ],
      "execution_count": 0,
      "outputs": []
    },
    {
      "cell_type": "code",
      "metadata": {
        "id": "b-KtvpbiY4wG",
        "colab_type": "code",
        "outputId": "711dc733-f281-4be4-d09b-a35643cd88f6",
        "colab": {
          "base_uri": "https://localhost:8080/",
          "height": 34
        }
      },
      "source": [
        "classifier.predict('date of 29/03/2018 (as amended to date (if applicable), the \"program agreementâ€). this addendum is effective as of the date of partnerâ€™s signature below (the ')"
      ],
      "execution_count": 0,
      "outputs": [
        {
          "output_type": "execute_result",
          "data": {
            "text/plain": [
              "(('__label__later_of_the_two_signatures,roject',), array([0.36751932]))"
            ]
          },
          "metadata": {
            "tags": []
          },
          "execution_count": 28
        }
      ]
    },
    {
      "cell_type": "code",
      "metadata": {
        "id": "q8FUYH2zm8tN",
        "colab_type": "code",
        "outputId": "dd4b38a8-6056-4838-b792-e4882cc30016",
        "colab": {
          "base_uri": "https://localhost:8080/",
          "height": 34
        }
      },
      "source": [
        "classifier.test(\"/content/effectiveDate.valid\")"
      ],
      "execution_count": 0,
      "outputs": [
        {
          "output_type": "execute_result",
          "data": {
            "text/plain": [
              "(813, 0.8179581795817958, 0.8179581795817958)"
            ]
          },
          "metadata": {
            "tags": []
          },
          "execution_count": 29
        }
      ]
    },
    {
      "cell_type": "code",
      "metadata": {
        "id": "rkRhhHNIo9JA",
        "colab_type": "code",
        "outputId": "a4ca7629-8b30-436f-c48f-d28b4e4c96c8",
        "colab": {
          "base_uri": "https://localhost:8080/",
          "height": 34
        }
      },
      "source": [
        "classifier.predict(\"ervice exhibit conflict with the terms of any service order, then the terms of documents will control in the following order: the service order, this service exhibit, then the terms of the agreement. in witness whereof, the parties have caused their respective authorized representatives to execute this services exhibit as of the effective date. for and on behalf of raiden for and on behalf of ark data centres unlimited company -docusigned by: limited x------docusigned by: fimuawa aluiuh/l (authorized signature) -991bc778a4fb490... (authorized signature) fionnuala meehan (name) simon burrage (name) h. varabiova for, f. meehan (bd. dr.) director (title) (title) address: address: spring park westwells road corsham sn13 9gb date: date: 7/4/2019 7/3/2019 for and on behalf of ark data centres li\")"
      ],
      "execution_count": 0,
      "outputs": [
        {
          "output_type": "execute_result",
          "data": {
            "text/plain": [
              "(('__label__specific_date,hat',), array([0.01374213]))"
            ]
          },
          "metadata": {
            "tags": []
          },
          "execution_count": 30
        }
      ]
    },
    {
      "cell_type": "code",
      "metadata": {
        "id": "fg-NrbbHuptv",
        "colab_type": "code",
        "colab": {}
      },
      "source": [
        ""
      ],
      "execution_count": 0,
      "outputs": []
    }
  ]
}